{
 "cells": [
  {
   "cell_type": "code",
   "execution_count": 2,
   "metadata": {},
   "outputs": [
    {
     "name": "stdout",
     "output_type": "stream",
     "text": [
      "auth success \n"
     ]
    }
   ],
   "source": [
    "import pandas as pd\n",
    "from jqdatasdk import *\n",
    "auth('18571452047','XIAOsikang123456')"
   ]
  },
  {
   "cell_type": "code",
   "execution_count": 23,
   "metadata": {},
   "outputs": [
    {
     "data": {
      "text/plain": [
       "{'total': 1000000, 'spare': 999995}"
      ]
     },
     "execution_count": 23,
     "metadata": {},
     "output_type": "execute_result"
    }
   ],
   "source": [
    "get_query_count()"
   ]
  },
  {
   "cell_type": "code",
   "execution_count": 5,
   "metadata": {},
   "outputs": [],
   "source": [
    "from __future__ import print_function, division\n",
    "import numpy as np\n",
    "import matplotlib as mpl\n",
    "import matplotlib.pyplot as plt\n",
    "%matplotlib inline"
   ]
  },
  {
   "cell_type": "code",
   "execution_count": 6,
   "metadata": {},
   "outputs": [],
   "source": [
    "import datetime\n",
    "import matplotlib.pyplot as plt\n",
    "import tushare as ts"
   ]
  },
  {
   "cell_type": "code",
   "execution_count": 7,
   "metadata": {},
   "outputs": [],
   "source": [
    "#获取每个月的第n个交易日的日期\n",
    "def tradedate(start,end,n=1):\n",
    "    '''start,end均为str类型，如“20190102”，n为当月的第几个交易日'''\n",
    "    #如果回测失败，可能token如果过期，需要自己在Tushare上重新申请，不然没数据，建议注册自己注册一个。\n",
    "    ts.set_token('ffc714ffff21ebeaac6ef3cbf0db7bd557634cdaf1c5cc95afb0f35e')\n",
    "    tradedate=[]\n",
    "    b=[]\n",
    "    pro = ts.pro_api()\n",
    "    #获取\n",
    "    a=pro.trade_cal(exchange='', start_date=start, end_date=end)\n",
    "    x=0\n",
    "    for i in a.index:\n",
    "        if len(tradedate)==0:\n",
    "            if a.is_open[i]==1:\n",
    "                x+=1\n",
    "                if x==n:\n",
    "                    tradedate.append(a.cal_date[i])\n",
    "                    x=0\n",
    "        else:\n",
    "            if a.is_open[i]==1 and tradedate[-1][4:6]!=a.cal_date[i][4:6]:\n",
    "                x+=1\n",
    "                if x==n:\n",
    "                    tradedate.append(a.cal_date[i])\n",
    "                    x=0\n",
    "    if len(tradedate)>0:\n",
    "        for c in tradedate:\n",
    "            d=datetime.datetime(int(c[:4]),int(c[4:6]),int(c[6:]))\n",
    "            b.append(d) \n",
    "#     print('获取每个月的第n个交易日的日期')\n",
    "    return b"
   ]
  },
  {
   "cell_type": "code",
   "execution_count": 8,
   "metadata": {},
   "outputs": [],
   "source": [
    "#获取远期合约时间\n",
    "def time_change(current):\n",
    "    dt=current.month\n",
    "    if dt in [2,3,4]:\n",
    "        longdata=[0,9]\n",
    "    elif dt in [5,6,7]:\n",
    "        longdata=[0,12]\n",
    "    elif dt in [8,9,10]:\n",
    "        longdata=[1,3]\n",
    "    elif dt in [11,12]:\n",
    "        longdata=[1,6]\n",
    "    elif dt ==1:\n",
    "        longdata=[0,6]\n",
    "    return longdata"
   ]
  },
  {
   "cell_type": "markdown",
   "metadata": {},
   "source": [
    "这里我们通过当前上证50ETF价格,选择目标合约，但由于期权合约代码变化的无规律性，我们只能先拼接目标合约的trading_code，通过trading_code，来找到对应合约的code,从而获取合约的行情数据。"
   ]
  },
  {
   "cell_type": "code",
   "execution_count": 10,
   "metadata": {},
   "outputs": [],
   "source": [
    "#获取交易的合约的trading_code  \n",
    "def check_seed(current):\n",
    "    dt=str(current.month)\n",
    "    it=time_change(current)\n",
    "    x=it[0]+current.year\n",
    "    x=str(x)[2:]\n",
    "    y=str(it[1])\n",
    "    if len(y)==1:\n",
    "        y='0'+y\n",
    "    security='510050.XSHG'\n",
    "    current_price=get_bars(security,1, unit='1d',\n",
    "            fields=['open', 'close', 'high', 'low', 'volume', 'money'],\n",
    "            include_now=False, end_dt=current, fq_ref_date=None)[0][3]\n",
    "    #print('上证50当前价格：%s:%s'%(current,current_price))\n",
    "    a=current_price*1000\n",
    "    b=a*1.08\n",
    "    c=round(b/50)*50\n",
    "    c=int(c)\n",
    "    d=str(c)\n",
    "    if len(dt)==1:\n",
    "        dt='0'+dt\n",
    "    shortcode='510050C'+str(current.year)[2:]+dt+'M0'+d\n",
    "    longcode='510050P'+x+y+'M0'+d\n",
    "    return shortcode,longcode"
   ]
  },
  {
   "cell_type": "code",
   "execution_count": 11,
   "metadata": {},
   "outputs": [],
   "source": [
    "#选择交易合约代码，交割日\n",
    "def contract(current,code):\n",
    "    date=current.strftime('%Y-%m-%d')\n",
    "    q=query(opt.OPT_DAILY_PREOPEN.code,\n",
    "    opt.OPT_DAILY_PREOPEN.expire_date,\n",
    "    opt.OPT_DAILY_PREOPEN.trading_code,\n",
    "    opt.OPT_DAILY_PREOPEN.date,\n",
    "    ).filter(opt.OPT_DAILY_PREOPEN.trading_code==code,\n",
    "    opt.OPT_DAILY_PREOPEN.date==date,\n",
    "    )\n",
    "    df=opt.run_query(q)\n",
    "    return df"
   ]
  },
  {
   "cell_type": "code",
   "execution_count": 12,
   "metadata": {},
   "outputs": [],
   "source": [
    "#获取合约的日行情数据\n",
    "def quotation(current,code,expire_date):\n",
    "    df_price=get_bars(code,count=50,unit='1d',\n",
    "        fields=['date','open','high','low','close'],\n",
    "        include_now=False, end_dt=expire_date)\n",
    "    #把numpy数据类型，转化为pd类型\n",
    "    df_price=pd.DataFrame(df_price,columns=['date','open','high','low','close'])\n",
    "    #注意datetime.datetime和datetime.date不能比较，需要用方法date()转化。\n",
    "    #选取当前时间之后的数据\n",
    "    df_price=df_price[df_price.date>(current-datetime.timedelta(1)).date()]\n",
    "    #重置索引，丢掉原来的索引\n",
    "    df_price = df_price.reset_index(drop = True)\n",
    "    #返回行情数据\n",
    "    return df_price"
   ]
  },
  {
   "cell_type": "code",
   "execution_count": 20,
   "metadata": {},
   "outputs": [],
   "source": [
    "#获取交易数据结果\n",
    "def trede(start='20180101',end='20190630',n=7):\n",
    "    monthdate=tradedate(start=start,end=end,n=n)\n",
    "    for current in monthdate:\n",
    "        shortdata,longdata=check_seed(current)\n",
    "        df1=contract(current,shortdata)\n",
    "        df2=contract(current,longdata)\n",
    "        #因为有的月份数据没有，我被聚宽坑惨了，\n",
    "        if df1.shape[0]!=0 and df2.shape[0]!=0:\n",
    "            #获取合约交割日期\n",
    "            expire_date=df1['expire_date'][0]\n",
    "            #获取合约代码\n",
    "            shortcode=df1['code'][0]\n",
    "            longcode=df2['code'][0]\n",
    "            #获取日行情数据\n",
    "            df_price1=quotation(current,shortcode,expire_date)\n",
    "            df_price2=quotation(current,longcode,expire_date)\n",
    "            #因为有的月份数据缺失，所有需要判断\n",
    "            if df_price1.shape[0]!=0 and df_price2.shape[0]!=0:\n",
    "                a=df_price1.close[0]\n",
    "                b=df_price2.close[0]\n",
    "                num=int(b/a)\n",
    "                c=a*10000*num\n",
    "                c=round(c,2)\n",
    "                d=b*10000\n",
    "                d=round(d,2)\n",
    "                ct=current.strftime('%Y-%m-%d')#时间格式转换\n",
    "                opentrade_s.append({'date':ct,'so':c})\n",
    "                opentrade_l.append({'date':ct,'lo':d})\n",
    "                #卖出条件，盘中最高价涨10倍，收盘涨5倍，到期前两天\n",
    "                for i in range(len(df_price1)-2):\n",
    "                    if df_price1.high[i]>10*a:\n",
    "                        x=round(df_price1.high[i]*10000*num)\n",
    "                        y=round(df_price2.high[i]*10000)\n",
    "                        closetrade_s.append({'date':ct,'sc':x})\n",
    "                        closetrade_l.append({'date':ct,'lc':y})\n",
    "                        break\n",
    "                    elif df_price1.close[i]>5*a or i==len(df_price1)-3:\n",
    "                        x=round(df_price1.close[i]*10000*num)\n",
    "                        y=round(df_price2.close[i]*10000)\n",
    "                        closetrade_s.append({'date':ct,'sc':x})\n",
    "                        closetrade_l.append({'date':ct,'lc':y})\n",
    "                        break\n",
    "    s_1=pd.DataFrame(opentrade_s)\n",
    "    s_2=pd.DataFrame(closetrade_s)\n",
    "    l_1=pd.DataFrame(opentrade_l)\n",
    "    l_2=pd.DataFrame(closetrade_l)\n",
    "    #合并数据表\n",
    "    #fally=pd.concat([s_1,s_2,l_1,l_2],axis=1,ignore_index=True)\n",
    "    fally=s_1.merge(s_2,on='date')\n",
    "    fally=fally.merge(l_1,on='date')\n",
    "    fally=fally.merge(l_2,on='date')\n",
    "    #删除重复的行\n",
    "    fally.drop_duplicates(inplace=True)\n",
    "    fally.reset_index(drop = True,inplace=True)\n",
    "    return fally"
   ]
  },
  {
   "cell_type": "code",
   "execution_count": 24,
   "metadata": {},
   "outputs": [
    {
     "ename": "KeyError",
     "evalue": "0",
     "output_type": "error",
     "traceback": [
      "\u001b[1;31m---------------------------------------------------------------------------\u001b[0m",
      "\u001b[1;31mKeyError\u001b[0m                                  Traceback (most recent call last)",
      "\u001b[1;32m~\\anaconda3\\lib\\site-packages\\pandas\\core\\indexes\\base.py\u001b[0m in \u001b[0;36mget_loc\u001b[1;34m(self, key, method, tolerance)\u001b[0m\n\u001b[0;32m   2896\u001b[0m             \u001b[1;32mtry\u001b[0m\u001b[1;33m:\u001b[0m\u001b[1;33m\u001b[0m\u001b[1;33m\u001b[0m\u001b[0m\n\u001b[1;32m-> 2897\u001b[1;33m                 \u001b[1;32mreturn\u001b[0m \u001b[0mself\u001b[0m\u001b[1;33m.\u001b[0m\u001b[0m_engine\u001b[0m\u001b[1;33m.\u001b[0m\u001b[0mget_loc\u001b[0m\u001b[1;33m(\u001b[0m\u001b[0mkey\u001b[0m\u001b[1;33m)\u001b[0m\u001b[1;33m\u001b[0m\u001b[1;33m\u001b[0m\u001b[0m\n\u001b[0m\u001b[0;32m   2898\u001b[0m             \u001b[1;32mexcept\u001b[0m \u001b[0mKeyError\u001b[0m\u001b[1;33m:\u001b[0m\u001b[1;33m\u001b[0m\u001b[1;33m\u001b[0m\u001b[0m\n",
      "\u001b[1;32mpandas/_libs/index.pyx\u001b[0m in \u001b[0;36mpandas._libs.index.IndexEngine.get_loc\u001b[1;34m()\u001b[0m\n",
      "\u001b[1;32mpandas/_libs/index.pyx\u001b[0m in \u001b[0;36mpandas._libs.index.IndexEngine.get_loc\u001b[1;34m()\u001b[0m\n",
      "\u001b[1;32mpandas/_libs/hashtable_class_helper.pxi\u001b[0m in \u001b[0;36mpandas._libs.hashtable.PyObjectHashTable.get_item\u001b[1;34m()\u001b[0m\n",
      "\u001b[1;32mpandas/_libs/hashtable_class_helper.pxi\u001b[0m in \u001b[0;36mpandas._libs.hashtable.PyObjectHashTable.get_item\u001b[1;34m()\u001b[0m\n",
      "\u001b[1;31mKeyError\u001b[0m: 0",
      "\nDuring handling of the above exception, another exception occurred:\n",
      "\u001b[1;31mKeyError\u001b[0m                                  Traceback (most recent call last)",
      "\u001b[1;32m<ipython-input-24-709e005338be>\u001b[0m in \u001b[0;36m<module>\u001b[1;34m\u001b[0m\n\u001b[0;32m      1\u001b[0m \u001b[1;32mif\u001b[0m \u001b[0m__name__\u001b[0m\u001b[1;33m==\u001b[0m\u001b[1;34m'__main__'\u001b[0m\u001b[1;33m:\u001b[0m\u001b[1;33m\u001b[0m\u001b[1;33m\u001b[0m\u001b[0m\n\u001b[1;32m----> 2\u001b[1;33m     \u001b[0mfally\u001b[0m\u001b[1;33m=\u001b[0m\u001b[0mtrede\u001b[0m\u001b[1;33m(\u001b[0m\u001b[0mstart\u001b[0m\u001b[1;33m=\u001b[0m\u001b[1;34m'20180101'\u001b[0m\u001b[1;33m,\u001b[0m\u001b[0mend\u001b[0m\u001b[1;33m=\u001b[0m\u001b[1;34m'20200801'\u001b[0m\u001b[1;33m,\u001b[0m\u001b[0mn\u001b[0m\u001b[1;33m=\u001b[0m\u001b[1;36m7\u001b[0m\u001b[1;33m)\u001b[0m\u001b[1;33m\u001b[0m\u001b[1;33m\u001b[0m\u001b[0m\n\u001b[0m\u001b[0;32m      3\u001b[0m     \u001b[0mfally\u001b[0m\u001b[1;33m[\u001b[0m\u001b[1;34m'share'\u001b[0m\u001b[1;33m]\u001b[0m\u001b[1;33m=\u001b[0m\u001b[0mfally\u001b[0m\u001b[1;33m[\u001b[0m\u001b[1;34m'sc'\u001b[0m\u001b[1;33m]\u001b[0m\u001b[1;33m+\u001b[0m\u001b[0mfally\u001b[0m\u001b[1;33m[\u001b[0m\u001b[1;34m'lc'\u001b[0m\u001b[1;33m]\u001b[0m\u001b[1;33m-\u001b[0m\u001b[0mfally\u001b[0m\u001b[1;33m[\u001b[0m\u001b[1;34m'so'\u001b[0m\u001b[1;33m]\u001b[0m\u001b[1;33m-\u001b[0m\u001b[0mfally\u001b[0m\u001b[1;33m[\u001b[0m\u001b[1;34m'lo'\u001b[0m\u001b[1;33m]\u001b[0m\u001b[1;33m\u001b[0m\u001b[1;33m\u001b[0m\u001b[0m\n\u001b[0;32m      4\u001b[0m     \u001b[0mfally\u001b[0m\u001b[1;33m[\u001b[0m\u001b[1;34m'profit'\u001b[0m\u001b[1;33m]\u001b[0m\u001b[1;33m=\u001b[0m\u001b[0mfally\u001b[0m\u001b[1;33m.\u001b[0m\u001b[0mshare\u001b[0m\u001b[1;33m.\u001b[0m\u001b[0mcumsum\u001b[0m\u001b[1;33m(\u001b[0m\u001b[1;33m)\u001b[0m\u001b[1;33m\u001b[0m\u001b[1;33m\u001b[0m\u001b[0m\n\u001b[0;32m      5\u001b[0m     \u001b[0mprint\u001b[0m\u001b[1;33m(\u001b[0m\u001b[0mfally\u001b[0m\u001b[1;33m)\u001b[0m\u001b[1;33m\u001b[0m\u001b[1;33m\u001b[0m\u001b[0m\n",
      "\u001b[1;32m<ipython-input-20-1fa5a7419929>\u001b[0m in \u001b[0;36mtrede\u001b[1;34m(start, end, n)\u001b[0m\n\u001b[0;32m      3\u001b[0m     \u001b[0mmonthdate\u001b[0m\u001b[1;33m=\u001b[0m\u001b[0mtradedate\u001b[0m\u001b[1;33m(\u001b[0m\u001b[0mstart\u001b[0m\u001b[1;33m=\u001b[0m\u001b[0mstart\u001b[0m\u001b[1;33m,\u001b[0m\u001b[0mend\u001b[0m\u001b[1;33m=\u001b[0m\u001b[0mend\u001b[0m\u001b[1;33m,\u001b[0m\u001b[0mn\u001b[0m\u001b[1;33m=\u001b[0m\u001b[0mn\u001b[0m\u001b[1;33m)\u001b[0m\u001b[1;33m\u001b[0m\u001b[1;33m\u001b[0m\u001b[0m\n\u001b[0;32m      4\u001b[0m     \u001b[1;32mfor\u001b[0m \u001b[0mcurrent\u001b[0m \u001b[1;32min\u001b[0m \u001b[0mmonthdate\u001b[0m\u001b[1;33m:\u001b[0m\u001b[1;33m\u001b[0m\u001b[1;33m\u001b[0m\u001b[0m\n\u001b[1;32m----> 5\u001b[1;33m         \u001b[0mshortdata\u001b[0m\u001b[1;33m,\u001b[0m\u001b[0mlongdata\u001b[0m\u001b[1;33m=\u001b[0m\u001b[0mcheck_seed\u001b[0m\u001b[1;33m(\u001b[0m\u001b[0mcurrent\u001b[0m\u001b[1;33m)\u001b[0m\u001b[1;33m\u001b[0m\u001b[1;33m\u001b[0m\u001b[0m\n\u001b[0m\u001b[0;32m      6\u001b[0m         \u001b[0mdf1\u001b[0m\u001b[1;33m=\u001b[0m\u001b[0mcontract\u001b[0m\u001b[1;33m(\u001b[0m\u001b[0mcurrent\u001b[0m\u001b[1;33m,\u001b[0m\u001b[0mshortdata\u001b[0m\u001b[1;33m)\u001b[0m\u001b[1;33m\u001b[0m\u001b[1;33m\u001b[0m\u001b[0m\n\u001b[0;32m      7\u001b[0m         \u001b[0mdf2\u001b[0m\u001b[1;33m=\u001b[0m\u001b[0mcontract\u001b[0m\u001b[1;33m(\u001b[0m\u001b[0mcurrent\u001b[0m\u001b[1;33m,\u001b[0m\u001b[0mlongdata\u001b[0m\u001b[1;33m)\u001b[0m\u001b[1;33m\u001b[0m\u001b[1;33m\u001b[0m\u001b[0m\n",
      "\u001b[1;32m<ipython-input-10-ef00f65c2ab7>\u001b[0m in \u001b[0;36mcheck_seed\u001b[1;34m(current)\u001b[0m\n\u001b[0;32m      9\u001b[0m         \u001b[0my\u001b[0m\u001b[1;33m=\u001b[0m\u001b[1;34m'0'\u001b[0m\u001b[1;33m+\u001b[0m\u001b[0my\u001b[0m\u001b[1;33m\u001b[0m\u001b[1;33m\u001b[0m\u001b[0m\n\u001b[0;32m     10\u001b[0m     \u001b[0msecurity\u001b[0m\u001b[1;33m=\u001b[0m\u001b[1;34m'510050.XSHG'\u001b[0m\u001b[1;33m\u001b[0m\u001b[1;33m\u001b[0m\u001b[0m\n\u001b[1;32m---> 11\u001b[1;33m     current_price=get_bars(security,1, unit='1d',\n\u001b[0m\u001b[0;32m     12\u001b[0m             \u001b[0mfields\u001b[0m\u001b[1;33m=\u001b[0m\u001b[1;33m[\u001b[0m\u001b[1;34m'open'\u001b[0m\u001b[1;33m,\u001b[0m \u001b[1;34m'close'\u001b[0m\u001b[1;33m,\u001b[0m \u001b[1;34m'high'\u001b[0m\u001b[1;33m,\u001b[0m \u001b[1;34m'low'\u001b[0m\u001b[1;33m,\u001b[0m \u001b[1;34m'volume'\u001b[0m\u001b[1;33m,\u001b[0m \u001b[1;34m'money'\u001b[0m\u001b[1;33m]\u001b[0m\u001b[1;33m,\u001b[0m\u001b[1;33m\u001b[0m\u001b[1;33m\u001b[0m\u001b[0m\n\u001b[0;32m     13\u001b[0m             include_now=False, end_dt=current, fq_ref_date=None)[0][3]\n",
      "\u001b[1;32m~\\anaconda3\\lib\\site-packages\\pandas\\core\\frame.py\u001b[0m in \u001b[0;36m__getitem__\u001b[1;34m(self, key)\u001b[0m\n\u001b[0;32m   2993\u001b[0m             \u001b[1;32mif\u001b[0m \u001b[0mself\u001b[0m\u001b[1;33m.\u001b[0m\u001b[0mcolumns\u001b[0m\u001b[1;33m.\u001b[0m\u001b[0mnlevels\u001b[0m \u001b[1;33m>\u001b[0m \u001b[1;36m1\u001b[0m\u001b[1;33m:\u001b[0m\u001b[1;33m\u001b[0m\u001b[1;33m\u001b[0m\u001b[0m\n\u001b[0;32m   2994\u001b[0m                 \u001b[1;32mreturn\u001b[0m \u001b[0mself\u001b[0m\u001b[1;33m.\u001b[0m\u001b[0m_getitem_multilevel\u001b[0m\u001b[1;33m(\u001b[0m\u001b[0mkey\u001b[0m\u001b[1;33m)\u001b[0m\u001b[1;33m\u001b[0m\u001b[1;33m\u001b[0m\u001b[0m\n\u001b[1;32m-> 2995\u001b[1;33m             \u001b[0mindexer\u001b[0m \u001b[1;33m=\u001b[0m \u001b[0mself\u001b[0m\u001b[1;33m.\u001b[0m\u001b[0mcolumns\u001b[0m\u001b[1;33m.\u001b[0m\u001b[0mget_loc\u001b[0m\u001b[1;33m(\u001b[0m\u001b[0mkey\u001b[0m\u001b[1;33m)\u001b[0m\u001b[1;33m\u001b[0m\u001b[1;33m\u001b[0m\u001b[0m\n\u001b[0m\u001b[0;32m   2996\u001b[0m             \u001b[1;32mif\u001b[0m \u001b[0mis_integer\u001b[0m\u001b[1;33m(\u001b[0m\u001b[0mindexer\u001b[0m\u001b[1;33m)\u001b[0m\u001b[1;33m:\u001b[0m\u001b[1;33m\u001b[0m\u001b[1;33m\u001b[0m\u001b[0m\n\u001b[0;32m   2997\u001b[0m                 \u001b[0mindexer\u001b[0m \u001b[1;33m=\u001b[0m \u001b[1;33m[\u001b[0m\u001b[0mindexer\u001b[0m\u001b[1;33m]\u001b[0m\u001b[1;33m\u001b[0m\u001b[1;33m\u001b[0m\u001b[0m\n",
      "\u001b[1;32m~\\anaconda3\\lib\\site-packages\\pandas\\core\\indexes\\base.py\u001b[0m in \u001b[0;36mget_loc\u001b[1;34m(self, key, method, tolerance)\u001b[0m\n\u001b[0;32m   2897\u001b[0m                 \u001b[1;32mreturn\u001b[0m \u001b[0mself\u001b[0m\u001b[1;33m.\u001b[0m\u001b[0m_engine\u001b[0m\u001b[1;33m.\u001b[0m\u001b[0mget_loc\u001b[0m\u001b[1;33m(\u001b[0m\u001b[0mkey\u001b[0m\u001b[1;33m)\u001b[0m\u001b[1;33m\u001b[0m\u001b[1;33m\u001b[0m\u001b[0m\n\u001b[0;32m   2898\u001b[0m             \u001b[1;32mexcept\u001b[0m \u001b[0mKeyError\u001b[0m\u001b[1;33m:\u001b[0m\u001b[1;33m\u001b[0m\u001b[1;33m\u001b[0m\u001b[0m\n\u001b[1;32m-> 2899\u001b[1;33m                 \u001b[1;32mreturn\u001b[0m \u001b[0mself\u001b[0m\u001b[1;33m.\u001b[0m\u001b[0m_engine\u001b[0m\u001b[1;33m.\u001b[0m\u001b[0mget_loc\u001b[0m\u001b[1;33m(\u001b[0m\u001b[0mself\u001b[0m\u001b[1;33m.\u001b[0m\u001b[0m_maybe_cast_indexer\u001b[0m\u001b[1;33m(\u001b[0m\u001b[0mkey\u001b[0m\u001b[1;33m)\u001b[0m\u001b[1;33m)\u001b[0m\u001b[1;33m\u001b[0m\u001b[1;33m\u001b[0m\u001b[0m\n\u001b[0m\u001b[0;32m   2900\u001b[0m         \u001b[0mindexer\u001b[0m \u001b[1;33m=\u001b[0m \u001b[0mself\u001b[0m\u001b[1;33m.\u001b[0m\u001b[0mget_indexer\u001b[0m\u001b[1;33m(\u001b[0m\u001b[1;33m[\u001b[0m\u001b[0mkey\u001b[0m\u001b[1;33m]\u001b[0m\u001b[1;33m,\u001b[0m \u001b[0mmethod\u001b[0m\u001b[1;33m=\u001b[0m\u001b[0mmethod\u001b[0m\u001b[1;33m,\u001b[0m \u001b[0mtolerance\u001b[0m\u001b[1;33m=\u001b[0m\u001b[0mtolerance\u001b[0m\u001b[1;33m)\u001b[0m\u001b[1;33m\u001b[0m\u001b[1;33m\u001b[0m\u001b[0m\n\u001b[0;32m   2901\u001b[0m         \u001b[1;32mif\u001b[0m \u001b[0mindexer\u001b[0m\u001b[1;33m.\u001b[0m\u001b[0mndim\u001b[0m \u001b[1;33m>\u001b[0m \u001b[1;36m1\u001b[0m \u001b[1;32mor\u001b[0m \u001b[0mindexer\u001b[0m\u001b[1;33m.\u001b[0m\u001b[0msize\u001b[0m \u001b[1;33m>\u001b[0m \u001b[1;36m1\u001b[0m\u001b[1;33m:\u001b[0m\u001b[1;33m\u001b[0m\u001b[1;33m\u001b[0m\u001b[0m\n",
      "\u001b[1;32mpandas/_libs/index.pyx\u001b[0m in \u001b[0;36mpandas._libs.index.IndexEngine.get_loc\u001b[1;34m()\u001b[0m\n",
      "\u001b[1;32mpandas/_libs/index.pyx\u001b[0m in \u001b[0;36mpandas._libs.index.IndexEngine.get_loc\u001b[1;34m()\u001b[0m\n",
      "\u001b[1;32mpandas/_libs/hashtable_class_helper.pxi\u001b[0m in \u001b[0;36mpandas._libs.hashtable.PyObjectHashTable.get_item\u001b[1;34m()\u001b[0m\n",
      "\u001b[1;32mpandas/_libs/hashtable_class_helper.pxi\u001b[0m in \u001b[0;36mpandas._libs.hashtable.PyObjectHashTable.get_item\u001b[1;34m()\u001b[0m\n",
      "\u001b[1;31mKeyError\u001b[0m: 0"
     ]
    }
   ],
   "source": [
    "if __name__=='__main__':\n",
    "    fally=trede(start='20180101',end='20200801',n=7)\n",
    "    fally['share']=fally['sc']+fally['lc']-fally['so']-fally['lo']\n",
    "    fally['profit']=fally.share.cumsum()\n",
    "    print(fally)\n",
    "    plt.figure()\n",
    "    plt.plot(fally.date,fally.profit,label='profit')\n",
    "    plt.plot(fally.date,fally.share,color='red',linewidth=1.0,linestyle='--',label='share')\n",
    "    plt.legend(loc='best')#打印图例\n",
    "    plt.xlabel('日期')\n",
    "    plt.xticks(rotation=45)#字体倾斜45度\n",
    "    plt.ylabel('元')\n",
    "    plt.show()"
   ]
  },
  {
   "cell_type": "code",
   "execution_count": null,
   "metadata": {},
   "outputs": [],
   "source": []
  }
 ],
 "metadata": {
  "kernelspec": {
   "display_name": "Python 3",
   "language": "python",
   "name": "python3"
  },
  "language_info": {
   "codemirror_mode": {
    "name": "ipython",
    "version": 3
   },
   "file_extension": ".py",
   "mimetype": "text/x-python",
   "name": "python",
   "nbconvert_exporter": "python",
   "pygments_lexer": "ipython3",
   "version": "3.8.5"
  }
 },
 "nbformat": 4,
 "nbformat_minor": 4
}
