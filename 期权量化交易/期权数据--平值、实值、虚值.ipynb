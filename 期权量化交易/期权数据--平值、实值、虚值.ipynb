{
 "cells": [
  {
   "cell_type": "code",
   "execution_count": 1,
   "metadata": {},
   "outputs": [
    {
     "name": "stdout",
     "output_type": "stream",
     "text": [
      "提示：当前环境pandas版本为0.25，get_price与get_fundamentals_continuously接口panel参数将固定为False\n",
      "注意：0.25以上版本pandas不支持panel，如使用该数据结构和相关函数请注意修改\n",
      "auth success \n"
     ]
    }
   ],
   "source": [
    "import warnings\n",
    "import matplotlib \n",
    "import numpy as np\n",
    "import pandas as pd\n",
    "import datetime as dt\n",
    "import matplotlib.pyplot as plt\n",
    "import matplotlib.dates as mdates\n",
    "warnings.filterwarnings('ignore')  #过滤代码运行过程中烦人的警告\n",
    "matplotlib.rcParams['axes.unicode_minus']=False #解决画图中\n",
    "from jqdatasdk import *\n",
    "auth('18571452047', 'XIAOsikang123456')"
   ]
  },
  {
   "cell_type": "code",
   "execution_count": 2,
   "metadata": {},
   "outputs": [],
   "source": [
    "def option_code(df,price,ContractType):\n",
    "    df=df.sort_values(by='exercise_price')\n",
    "    df=df.reset_index()\n",
    "    df.loc[:,'exercise_price']=abs(df.loc[:,'exercise_price']-price)\n",
    "    idx=df.loc[:,'exercise_price'].idxmin()\n",
    "    code=df.loc[idx-1:idx+1,'code'].values\n",
    "    if ContractType=='p':\n",
    "        code=code[::-1]\n",
    "    return code\n",
    "def get_option_code(date):\n",
    "    price=get_price('510050.XSHG',count=1,end_date=date,fq='none',fields=['open'])['open'].values[0]\n",
    "    q=query(opt.OPT_DAILY_PREOPEN).filter(opt.OPT_DAILY_PREOPEN.date, opt.OPT_DAILY_PREOPEN.underlying_name=='50ETF')\n",
    "    df=opt.run_query(q)\n",
    "    df=df.loc[:,['code','trading_code','exercise_price','exercise_date']]\n",
    "    df=df[df['exercise_date']==df['exercise_date'].min()].reset_index()\n",
    "    row,col=df.shape\n",
    "    if row>0:\n",
    "        for i in range(row):\n",
    "            scode=df.loc[i,'trading_code']\n",
    "            if scode[6]=='C' and scode[11]=='M':\n",
    "                df.loc[i,'CP']='c'\n",
    "            elif scode[6]=='P' and scode[11]=='M':\n",
    "                df.loc[i,'CP']='p' \n",
    "        df1=df[df['CP']=='c']\n",
    "        df2=df[df['CP']=='p']\n",
    "        code1=option_code(df1,price,'c')\n",
    "        code2=option_code(df2,price,'p')\n",
    "        code1=[str(code)+'.XSHG' for code in code1]\n",
    "        code2=[str(code)+'.XSHG' for code in code2]\n",
    "        return code1,code2\n",
    "    else:\n",
    "        print(date,'这一天取不到期权合约！！')\n",
    "        return 'None','None'  "
   ]
  },
  {
   "cell_type": "code",
   "execution_count": 3,
   "metadata": {},
   "outputs": [
    {
     "name": "stdout",
     "output_type": "stream",
     "text": [
      "运行完毕！\n"
     ]
    }
   ],
   "source": [
    "###运行时间约1分钟，耐心等待！！\n",
    "\n",
    "Code_itm=[] ###实值期权代码列表\n",
    "Code_atm=[] ###平值期权代码列表\n",
    "Code_otm=[] ###虚值期权代码列表\n",
    "trade_days=get_trade_days('2017-1-1','2018-5-20')\n",
    "for k,date in enumerate(trade_days[:]):\n",
    "    code_c,code_p=get_option_code(date)\n",
    "    Code_itm.append([code_c[0],code_p[0]])\n",
    "    Code_atm.append([code_c[1],code_p[1]])\n",
    "    Code_otm.append([code_c[2],code_p[2]])\n",
    "print('运行完毕！')"
   ]
  },
  {
   "cell_type": "code",
   "execution_count": 4,
   "metadata": {},
   "outputs": [
    {
     "data": {
      "text/plain": [
       "['10000002.XSHG.XSHG', '10000008.XSHG.XSHG']"
      ]
     },
     "execution_count": 4,
     "metadata": {},
     "output_type": "execute_result"
    }
   ],
   "source": [
    "Code_itm[0]  ###2017-1-3的实值认购，实值认沽期权代码"
   ]
  },
  {
   "cell_type": "code",
   "execution_count": 5,
   "metadata": {},
   "outputs": [],
   "source": [
    "###计算每天的上下轨\n",
    "def Price_Range(date,parameters):\n",
    "    price = get_price('510050.XSHG',end_date=date,count=parameters[0]+1,fq='none',fields=['open','high','low','close'])\n",
    "    HH=max(price['high'].values[:-1])\n",
    "    HC=max(price['close'].values[:-1])\n",
    "    LC=min(price['close'].values[:-1])\n",
    "    LL=min(price['low'].values[:-1])\n",
    "    Range = max(HH-LC,HC-LL)\n",
    "    p     = price.iloc[-1,0]\n",
    "    p_up  = round(p+parameters[1]*Range,3)\n",
    "    p_down= round(p-parameters[2]*Range,3)\n",
    "    return p_up,p_down \n",
    "###计算总收益TR、年华收益AR、波动率Vo、夏普比SR、最大回撤MD\n",
    "def Indicators(value):\n",
    "    value=list(value)\n",
    "    TR=value[-1]-1\n",
    "    AR=pow(value[-1],252/len(value))-1\n",
    "    value=pd.Series(value)\n",
    "    Returns=value.pct_change(1).dropna()\n",
    "    Vo=sqrt(Returns.var()*252)\n",
    "    SR=AR/Vo\n",
    "    drawback=[]\n",
    "    for i,v in enumerate(value):\n",
    "        drawback.append(max(1-value[i:]/v))\n",
    "    MD=max(drawback)\n",
    "    return TR*100,AR*100,Vo*100,SR,MD*100"
   ]
  },
  {
   "cell_type": "code",
   "execution_count": 6,
   "metadata": {},
   "outputs": [],
   "source": [
    "##策略函数。\n",
    "'''\n",
    "输入参数：\n",
    "Type     : 字符串类型，表示期权合约类型。包括'itm'(实值期权)，'atm'(平值合约)，'otm'(虚值合约)。\n",
    "flag     : 列表。包含两个元素，形成买入卖出方式。第1个元素：向上突破时买入（'Buy'）还是卖出('Sell');第2个元素:向下突破时买入('Buy')还是卖出('Sell')。(\n",
    "cost     : 单边手续费，默认为0.0005（5元/张）。\n",
    "DualPara : Dual Thrust参数列表。第1个元素为历史天数Num，第2个为向上突破系数Ks,第3个为向下突破系数Kx。\n",
    "period   : 是否为样本内测试。可选参数：样本内:'inSample'，样本外：'outSample'，全样本：'allSample'。\n",
    "\n",
    "输出参数：\n",
    "trade_days:交易日列表，主要为画图时所用。\n",
    "value     :每日净值列表。\n",
    "'''\n",
    "def option_strategy(Type='itm',flag=['Buy','Sell'],DualPara=[3,0.3,0.3],cost=0.0005,period='inSample'):\n",
    "    \n",
    "    LSflag=0               ###突破信号标志位，默认为0，向上突破置为1，向下突破置为-1。\n",
    "    value=[10000]          ###资金净值列表，初始资金为10000元\n",
    "    u_code='510050.XSHG'   ###标的50ETF代码\n",
    "    \n",
    "    if   period=='inSample':\n",
    "        trade_days=get_trade_days('2017-01-01','2018-5-20')\n",
    "    elif period=='outSample':\n",
    "        trade_days=get_trade_days('2018-05-21','2019-5-20')\n",
    "    elif period=='allSample':\n",
    "        trade_days=get_trade_days('2017-01-01','2019-5-20')\n",
    "        \n",
    "    for k,date in enumerate(trade_days[:]):\n",
    "        \n",
    "        code_c,code_p=get_option_code(date)\n",
    "        \n",
    "        ###认购合约代码:c_code,认沽合约代码:p_code\n",
    "        if Type=='itm':\n",
    "            c_code,p_code=code_c[0],code_p[0] ###实值期权\n",
    "        elif Type=='atm':\n",
    "            c_code,p_code=code_c[1],code_p[1] ###平值期权\n",
    "        elif Type=='otm':\n",
    "            c_code,p_code=code_c[2],code_p[2]  ###虚值期权\n",
    "\n",
    "        if len(c_code)<6 or len(p_code)<6:###不能取得正确期权合约代码时，跳过这一天\n",
    "            value.append(value[-1])\n",
    "            continue\n",
    "\n",
    "        code=[u_code,c_code,p_code]  ###需要取得数据的证券代码\n",
    "\n",
    "        p_up,p_down = Price_Range(date,DualPara) ###突破的上下轨\n",
    "\n",
    "        ###取得当天50ETF、认购合约、认沽合约的1分钟数据，第一列为50ETF,第二列为认购合约，第三列为认沽合约\n",
    "        sta_date=date\n",
    "        end_date=date+dt.timedelta(days=1)\n",
    "        price=get_price(code,sta_date,end_date,frequency='1m',fq='none',fields=['close'])['close']\n",
    "\n",
    "        ###判断每分钟50ETF收盘价是否突破，向上突破LSflag置为1，向下突破LSflag置为-1，否则继续为0\n",
    "        for i in range(len(price)):\n",
    "            p =price.iloc[i,0]###50ETF每分钟收盘价\n",
    "            if LSflag==0:\n",
    "\n",
    "                ###向上突破\n",
    "                if p>p_up:\n",
    "                    LSflag=1\n",
    "                    ###向上突破买入认购\n",
    "                    if flag[0]=='Buy':\n",
    "                        c1=price.iloc[i,1] ###突破时认购期权的价格\n",
    "                        c2=price.iloc[-1,1]###收盘时认购期权的价格\n",
    "#                         print(c_code,price.index[i])\n",
    "                    ###向上突破卖出认沽\n",
    "                    elif flag[0]=='Sell':\n",
    "                        c1=price.iloc[i,2] ###突破时认沽期权的价格\n",
    "                        c2=price.iloc[-1,2]###收盘时认沽期权的价格\n",
    "#                         print(p_code,price.index[i])\n",
    "                    break   ###一旦今天有突破信号，则不再继续判断。突破时做多收盘时平仓即可\n",
    "\n",
    "                ###向下突破\n",
    "                elif p<p_down:\n",
    "                    LSflag=-1\n",
    "                    if flag[1]=='Buy':\n",
    "                        c1=price.iloc[i,2] ###突破时认沽期权的价格\n",
    "                        c2=price.iloc[-1,2]###收盘时认沽期权的价格\n",
    "#                         print(p_code,price.index[i])\n",
    "                    elif flag[1]=='Sell':\n",
    "                        c1=price.iloc[i,1]  ###突破时认购期权的价格\n",
    "                        c2=price.iloc[-1,1] ###收盘时认购期权的价格\n",
    "#                         print(c_code,price.index[i])\n",
    "                    break    \n",
    "\n",
    "        ###计算每日收益，净值存放在value列表里  \n",
    "\n",
    "        if   LSflag== 1 :\n",
    "            num=int(value[-1]*0.1/c1/10000) ###投入总金额10%，计算张数。\n",
    "            if flag[0]=='Buy':\n",
    "                profit=(c2-c1-2*cost)*10000   \n",
    "            elif flag[0]=='Sell':\n",
    "                profit=(c1-c2-2*cost)*10000\n",
    "            value.append(value[-1]+num*profit) ###每日净值\n",
    "\n",
    "        elif  LSflag==-1:\n",
    "            num=int(value[-1]*0.1/c1/10000) \n",
    "            if flag[1]=='Buy':\n",
    "                profit=(c2-c1-2*cost)*10000\n",
    "            elif flag[1]=='Sell':\n",
    "                profit=(c1-c2-2*cost)*10000\n",
    "            value.append(value[-1]+num*profit) \n",
    "            \n",
    "        else:\n",
    "            num=0\n",
    "            c1,c2=0,0\n",
    "            value.append(value[-1])\n",
    " \n",
    "        LSflag=0   \n",
    "    #print(c1,c2,num,value[-1])\n",
    "    value=[i/value[0] for i in value]\n",
    "    return trade_days,value"
   ]
  },
  {
   "cell_type": "code",
   "execution_count": null,
   "metadata": {},
   "outputs": [],
   "source": [
    "###运行需要大概1分钟，耐心等待！！\n",
    "###样本内默认参数回测效果\n",
    "trade_days,value=option_strategy(Type='itm',flag=['Buy','Sell'],DualPara=[3,0.3,0.3],cost=0.0005,period='inSample')"
   ]
  },
  {
   "cell_type": "code",
   "execution_count": 10,
   "metadata": {},
   "outputs": [
    {
     "ename": "NameError",
     "evalue": "name 'value' is not defined",
     "output_type": "error",
     "traceback": [
      "\u001b[1;31m---------------------------------------------------------------------------\u001b[0m",
      "\u001b[1;31mNameError\u001b[0m                                 Traceback (most recent call last)",
      "\u001b[1;32m<ipython-input-10-c7aecec0c999>\u001b[0m in \u001b[0;36m<module>\u001b[1;34m\u001b[0m\n\u001b[0;32m      4\u001b[0m \u001b[0mplt\u001b[0m\u001b[1;33m.\u001b[0m\u001b[0mgrid\u001b[0m\u001b[1;33m(\u001b[0m\u001b[1;33m)\u001b[0m\u001b[1;33m\u001b[0m\u001b[1;33m\u001b[0m\u001b[0m\n\u001b[0;32m      5\u001b[0m \u001b[0mplt\u001b[0m\u001b[1;33m.\u001b[0m\u001b[0mxticks\u001b[0m\u001b[1;33m(\u001b[0m\u001b[0mrotation\u001b[0m\u001b[1;33m=\u001b[0m\u001b[1;36m45\u001b[0m\u001b[1;33m)\u001b[0m\u001b[1;33m\u001b[0m\u001b[1;33m\u001b[0m\u001b[0m\n\u001b[1;32m----> 6\u001b[1;33m \u001b[0mplt\u001b[0m\u001b[1;33m.\u001b[0m\u001b[0mplot\u001b[0m\u001b[1;33m(\u001b[0m\u001b[0mtrade_days\u001b[0m\u001b[1;33m,\u001b[0m\u001b[0mvalue\u001b[0m\u001b[1;33m[\u001b[0m\u001b[1;36m1\u001b[0m\u001b[1;33m:\u001b[0m\u001b[1;33m]\u001b[0m\u001b[1;33m)\u001b[0m\u001b[1;33m\u001b[0m\u001b[1;33m\u001b[0m\u001b[0m\n\u001b[0m\u001b[0;32m      7\u001b[0m \u001b[0mplt\u001b[0m\u001b[1;33m.\u001b[0m\u001b[0mxlabel\u001b[0m\u001b[1;33m(\u001b[0m\u001b[1;34m'Time'\u001b[0m\u001b[1;33m)\u001b[0m\u001b[1;33m\u001b[0m\u001b[1;33m\u001b[0m\u001b[0m\n\u001b[0;32m      8\u001b[0m \u001b[0mplt\u001b[0m\u001b[1;33m.\u001b[0m\u001b[0mylabel\u001b[0m\u001b[1;33m(\u001b[0m\u001b[1;34m'Value'\u001b[0m\u001b[1;33m)\u001b[0m\u001b[1;33m\u001b[0m\u001b[1;33m\u001b[0m\u001b[0m\n",
      "\u001b[1;31mNameError\u001b[0m: name 'value' is not defined"
     ]
    },
    {
     "data": {
      "image/png": "[encoded data removed]",
      "text/plain": [
       "<Figure size 1080x288 with 1 Axes>"
      ]
     },
     "metadata": {
      "needs_background": "light"
     },
     "output_type": "display_data"
    }
   ],
   "source": [
    "###画图\n",
    "plt.figure(figsize=(15,4))\n",
    "plt.gca().xaxis.set_major_formatter(mdates.DateFormatter('%Y-%m-%d'))###横坐标设置为日期\n",
    "plt.grid()\n",
    "plt.xticks(rotation=45)\n",
    "plt.plot(trade_days,value[1:])\n",
    "plt.xlabel('Time')\n",
    "plt.ylabel('Value')\n",
    "plt.title('Dual Thrust在期权上的应用')\n",
    "plt.show()"
   ]
  },
  {
   "cell_type": "code",
   "execution_count": null,
   "metadata": {},
   "outputs": [],
   "source": []
  }
 ],
 "metadata": {
  "kernelspec": {
   "display_name": "Python 3",
   "language": "python",
   "name": "python3"
  },
  "language_info": {
   "codemirror_mode": {
    "name": "ipython",
    "version": 3
   },
   "file_extension": ".py",
   "mimetype": "text/x-python",
   "name": "python",
   "nbconvert_exporter": "python",
   "pygments_lexer": "ipython3",
   "version": "3.8.5"
  }
 },
 "nbformat": 4,
 "nbformat_minor": 4
}
