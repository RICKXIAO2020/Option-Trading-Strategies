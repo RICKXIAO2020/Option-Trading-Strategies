{
 "cells": [
  {
   "cell_type": "markdown",
   "metadata": {},
   "source": [
    "## **牛顿迭代法**\n",
    "\n",
    "主要思路是，先设定一个初始波动率值，比如20%；然后建立一种迭代关系：如果由初始波动率值得到的期权价格高于市场价格，那么初始波动率减少一定的量（因为期权价格与波动率成正比），反之增加，如此迭代；直到计算出的期权价格越来越逼近市场真实价格，可设置一个阈值，比如二者之差的绝对值小于一个基点就认为它们相等。"
   ]
  },
  {
   "cell_type": "code",
   "execution_count": 8,
   "metadata": {},
   "outputs": [],
   "source": [
    "from math import sqrt,log,exp\n",
    "from scipy.stats import norm\n",
    "from numpy import *\n",
    "\n",
    "def BSM_call(S,K,r,T,sigma):\n",
    "    d1 = (log(S/K)+(r+0.5*sigma**2)*T)/(sigma*sqrt(T))\n",
    "    d2 = d1 - sigma*sqrt(T)\n",
    "    return S * norm.cdf(d1) - K * exp(-r*T) * norm.cdf(d2)\n",
    "    \n",
    "def BSM_put(S,K,r,T,sigma):\n",
    "    d1 = (log(S/K)+(r+0.5*sigma**2)*T)/(sigma*sqrt(T))\n",
    "    d2 = d1 - sigma*sqrt(T)    \n",
    "    return K * exp(-r*T) * norm.cdf(-d2) - S * norm.cdf(-d1)\n",
    "    \n",
    "def newton_call(P,S,K,r,T):\n",
    "    sigma=0.2\n",
    "    while abs(BSM_call(S,K,r,T,sigma)-P) > 0.0001:\n",
    "        if BSM_call(S,K,r,T,sigma) > P:\n",
    "            sigma-=0.0001\n",
    "        else:\n",
    "            sigma+=0.0001\n",
    "    return sigma\n",
    "\n",
    "def newton_put(P,S,K,r,T):\n",
    "    sigma=0.2\n",
    "    while abs(BSM_put(S,K,r,T,sigma)-P) > 0.0001:\n",
    "        if BSM_put(S,K,r,T,sigma) > P:\n",
    "            sigma-=0.0001\n",
    "        else:\n",
    "            sigma+=0.0001\n",
    "    return sigma"
   ]
  },
  {
   "cell_type": "code",
   "execution_count": 9,
   "metadata": {},
   "outputs": [
    {
     "name": "stdout",
     "output_type": "stream",
     "text": [
      "看涨期权隐含波动率为0.2345\n",
      "看跌期权隐含波动率为0.2446\n"
     ]
    }
   ],
   "source": [
    "print('看涨期权隐含波动率为{:.4f}'.format(newton_call(1.875,21,20,0.1,0.25)))\n",
    "print('看跌期权隐含波动率为{:.4f}'.format(newton_put(0.7503,5.29,6,0.04,0.5)))"
   ]
  },
  {
   "cell_type": "markdown",
   "metadata": {},
   "source": [
    "## **二分法**"
   ]
  },
  {
   "cell_type": "code",
   "execution_count": 10,
   "metadata": {},
   "outputs": [],
   "source": [
    "def binary_call(P,S,K,r,T):\n",
    "    sigma_up=1\n",
    "    sigma_down=0.001\n",
    "    sigma_mid=(sigma_up+sigma_down)/2\n",
    "    while abs(BSM_call(S,K,r,T,sigma_mid)-P) > 0.0001:\n",
    "        if BSM_call(S,K,r,T,sigma_down) < P < BSM_call(S,K,r,T,sigma_mid):\n",
    "            sigma_up=sigma_mid\n",
    "            sigma_mid=(sigma_mid+sigma_down)/2\n",
    "        elif BSM_call(S,K,r,T,sigma_up) > P > BSM_call(S,K,r,T,sigma_mid):\n",
    "            sigma_down=sigma_mid\n",
    "            sigma_mid=(sigma_up+sigma_mid)/2\n",
    "        else:\n",
    "            print('error!')\n",
    "            break\n",
    "    return sigma_mid\n",
    "\n",
    "def binary_put(P,S,K,r,T):\n",
    "    sigma_up=1\n",
    "    sigma_down=0.001\n",
    "    sigma_mid=(sigma_up+sigma_down)/2\n",
    "    while abs(BSM_put(S,K,r,T,sigma_mid)-P) > 0.0001:\n",
    "        if BSM_put(S,K,r,T,sigma_down) < P < BSM_put(S,K,r,T,sigma_mid):\n",
    "            sigma_up=sigma_mid\n",
    "            sigma_mid=(sigma_mid+sigma_down)/2\n",
    "        elif BSM_put(S,K,r,T,sigma_up) > P > BSM_put(S,K,r,T,sigma_mid):\n",
    "            sigma_down=sigma_mid\n",
    "            sigma_mid=(sigma_up+sigma_mid)/2\n",
    "        else:\n",
    "            print('error!')\n",
    "            break\n",
    "    return sigma_mid"
   ]
  },
  {
   "cell_type": "code",
   "execution_count": 11,
   "metadata": {},
   "outputs": [
    {
     "name": "stdout",
     "output_type": "stream",
     "text": [
      "看涨期权隐含波动率为0.2345\n",
      "看跌期权隐含波动率为0.2447\n"
     ]
    }
   ],
   "source": [
    "print('看涨期权隐含波动率为{:.4f}'.format(binary_call(1.875,21,20,0.1,0.25)))\n",
    "print('看跌期权隐含波动率为{:.4f}'.format(binary_put(0.7503,5.29,6,0.04,0.5)))"
   ]
  },
  {
   "cell_type": "markdown",
   "metadata": {},
   "source": [
    "## 波动率微笑和波动率偏斜"
   ]
  },
  {
   "cell_type": "code",
   "execution_count": 38,
   "metadata": {},
   "outputs": [
    {
     "data": {
      "text/html": [
       "        <script type=\"text/javascript\">\n",
       "        window.PlotlyConfig = {MathJaxConfig: 'local'};\n",
       "        if (window.MathJax) {MathJax.Hub.Config({SVG: {font: \"STIX-Web\"}});}\n",
       "        if (typeof require !== 'undefined') {\n",
       "        require.undef(\"plotly\");\n",
       "        requirejs.config({\n",
       "            paths: {\n",
       "                'plotly': ['https://cdn.plot.ly/plotly-latest.min']\n",
       "            }\n",
       "        });\n",
       "        require(['plotly'], function(Plotly) {\n",
       "            window._Plotly = Plotly;\n",
       "        });\n",
       "        }\n",
       "        </script>\n",
       "        "
      ]
     },
     "metadata": {},
     "output_type": "display_data"
    }
   ],
   "source": [
    "import pandas as pd\n",
    "import numpy as np\n",
    "import datetime\n",
    "from scipy import stats\n",
    "import tushare as ts\n",
    "import plotly.graph_objects as go\n",
    "import plotly\n",
    "import plotly.express as px\n",
    "#正常显示画图时出现的中文和负号\n",
    "from pylab import mpl\n",
    "mpl.rcParams['font.sans-serif']=['SimHei']\n",
    "mpl.rcParams['axes.unicode_minus']=False\n",
    "\n",
    "#设置token\n",
    "ts.set_token('ffc714ffff21ebeaac6ef3cbf0db7bd557634cdaf1c5cc95afb0f35e')\n",
    "pro = ts.pro_api()\n",
    "plotly.offline.init_notebook_mode(connected=True)"
   ]
  },
  {
   "cell_type": "code",
   "execution_count": 39,
   "metadata": {},
   "outputs": [],
   "source": [
    "def extra_data(date): # 提取数据\n",
    "    # 提取50ETF合约基础信息\n",
    "    df_basic = pro.opt_basic(exchange='SSE', fields='ts_code,name,call_put,exercise_price,list_date,delist_date')\n",
    "    df_basic = df_basic.loc[df_basic['name'].str.contains('50ETF')]\n",
    "    df_basic = df_basic[(df_basic.list_date<=date)&(df_basic.delist_date>date)] # 提取当天市场上交易的期权合约\n",
    "    df_basic = df_basic.drop(['name','list_date'],axis=1)\n",
    "    df_basic['date'] = date\n",
    "\n",
    "    # 提取日线行情数据\n",
    "    df_cal = pro.trade_cal(exchange='SSE', cal_date=date, fields = 'cal_date,is_open,pretrade_date')\n",
    "    if df_cal.iloc[0, 1] == 0:\n",
    "        date = df_cal.iloc[0, 2] # 判断当天是否为交易日，若否则选择前一个交易日\n",
    "\n",
    "    opt_list = df_basic['ts_code'].tolist() # 获取50ETF期权合约列表\n",
    "    df_daily = pro.opt_daily(trade_date=date,exchange = 'SSE',fields='ts_code,trade_date,settle')\n",
    "    df_daily = df_daily[df_daily['ts_code'].isin(opt_list)]\n",
    "\n",
    "    # 提取50etf指数数据\n",
    "    df_50etf = pro.fund_daily(ts_code='510050.SH', trade_date = date,fields = 'close')\n",
    "    s = df_50etf.iloc[0, 0] \n",
    "\n",
    "    # 提取无风险利率数据（用一周shibor利率表示）\n",
    "    df_shibor = pro.shibor(date = date,fields = '1w')\n",
    "    rf = df_shibor.iloc[0,0]/100\n",
    "\n",
    "    # 数据合并\n",
    "    df = pd.merge(df_basic,df_daily,how='left',on=['ts_code'])\n",
    "    df['s'] = s\n",
    "    df['r'] = rf\n",
    "    df = df.rename(columns={'exercise_price':'k', 'settle':'c'})\n",
    "    #print(df)\n",
    "    return df\n"
   ]
  },
  {
   "cell_type": "code",
   "execution_count": 40,
   "metadata": {},
   "outputs": [],
   "source": [
    "def data_clear(df): # 数据清洗\n",
    "    def days(df): # 计算期权到期时间\n",
    "        start_date = datetime.datetime.strptime(df.date,\"%Y%m%d\")\n",
    "        end_date = datetime.datetime.strptime(df.delist_date,\"%Y%m%d\")\n",
    "        delta = end_date - start_date\n",
    "        return int(delta.days)/365\n",
    "\n",
    "    def iq(df): # 计算隐含分红率\n",
    "        #q = -log((df.settle+df.exercise_price*exp(-df.interest*df.delta)-df.settle_p)/(df.s0))/df.delta\n",
    "        q = -log((df.c+df.k*exp(-df.r*df.t)-df.c_p)/(df.s))/df.t\n",
    "        return q\n",
    "    \n",
    "    df['t'] = df.apply(days,axis = 1)\n",
    "    df = df.drop(['delist_date','date'],axis = 1)\n",
    "\n",
    "    # 计算隐含分红率\n",
    "    df_c = df[df['call_put']=='C']\n",
    "    df_p = df[df['call_put']=='P']\n",
    "    df_p = df_p.rename(columns={'c':'c_p','ts_code':'ts_code_p',\n",
    "                         'call_put':'call_put_p'})\n",
    "    df = pd.merge(df_c,df_p,how='left',on=['trade_date','k','t','r','s'])\n",
    "\n",
    "    df['q'] = df.apply(iq,axis = 1)\n",
    "    c_list = [x for x in range(8)]+[11]\n",
    "    \n",
    "    df_c = df.iloc[:,c_list]\n",
    "    df_p = df[['ts_code_p','trade_date','c_p','call_put_p','k','t','r','s','q']]\n",
    "    df_p = df_p.rename(columns={'c_p':'c','ts_code_p':'ts_code',\n",
    "                         'call_put_p':'call_put'})\n",
    "    df_c = df_c.append(df_p)\n",
    "    #print(df_c)\n",
    "    return df_c        \n"
   ]
  },
  {
   "cell_type": "code",
   "execution_count": 41,
   "metadata": {},
   "outputs": [],
   "source": [
    "#根据BS公式计算期权价值\n",
    "def bsm_value(s,k,t,r,sigma,q,option_type):\n",
    "    d1 = ( log( s/k ) + ( r -q + 0.5*sigma**2 )*t )/( sigma*sqrt(t) )\n",
    "    d2 = ( log( s/k ) + ( r -q - 0.5*sigma**2 )*t )/( sigma*sqrt(t) )\n",
    "    if option_type.lower() == 'c':\n",
    "        value = (s*exp(-q*t)*stats.norm.cdf( d1) - k*exp( -r*t )*stats.norm.cdf( d2))\n",
    "    else:\n",
    "        value = k * exp(-r * t) * stats.norm.cdf(-d2) - s*exp(-q*t) * stats.norm.cdf(-d1)\n",
    "    return value\n",
    "\n",
    "#二分法求隐含波动率\n",
    "def bsm_imp_vol(s,k,t,r,c,q,option_type):\n",
    "    c_est = 0 # 期权价格估计值\n",
    "    top = 1  #波动率上限\n",
    "    floor = 0  #波动率下限\n",
    "    sigma = ( floor + top )/2 #波动率初始值\n",
    "    count = 0 # 计数器\n",
    "    while abs( c - c_est ) > 0.000001:\n",
    "        c_est = bsm_value(s,k,t,r,sigma,q,option_type) \n",
    "        #根据价格判断波动率是被低估还是高估，并对波动率做修正\n",
    "        count += 1           \n",
    "        if count > 100: # 时间价值为0的期权是算不出隐含波动率的，因此迭代到一定次数就不再迭代了\n",
    "            sigma = 0\n",
    "            break\n",
    "        \n",
    "        if c - c_est > 0: #f(x)>0\n",
    "            floor = sigma\n",
    "            sigma = ( sigma + top )/2\n",
    "        else:\n",
    "            top = sigma\n",
    "            sigma = ( sigma + floor )/2\n",
    "    return sigma  \n",
    "\n",
    "def cal_iv(df): # 计算主程序\n",
    "    option_list = df.ts_code.tolist()\n",
    "\n",
    "    df = df.set_index('ts_code')\n",
    "    alist = []\n",
    "\n",
    "    for option in option_list:\n",
    "        s = df.loc[option,'s']\n",
    "        k = df.loc[option,'k']\n",
    "        t = df.loc[option,'t']\n",
    "        r = df.loc[option,'r']\n",
    "        c = df.loc[option,'c']\n",
    "        q = df.loc[option,'q']\n",
    "        option_type = df.loc[option,'call_put']\n",
    "        sigma = bsm_imp_vol(s,k,t,r,c,q,option_type)\n",
    "        alist.append(sigma)\n",
    "    df['iv'] = alist\n",
    "    return df  \n"
   ]
  },
  {
   "cell_type": "markdown",
   "metadata": {},
   "source": [
    "## 多项式拟合填充缺失值\n",
    "- 由于部分期限的50etf期权品种较少，所以使用多项式拟合的方法补全这部分数据，由波动率微笑可知，这是一个二次函数，因此令degree = 2\n",
    "- 用pandas的pivot_table函数进行整理。但是这样生成的数据仍然不符合我们要求，所以先把数据保存到本地，然后再读取作进一步整理。"
   ]
  },
  {
   "cell_type": "code",
   "execution_count": 52,
   "metadata": {},
   "outputs": [],
   "source": [
    "def data_pivot(df): # 数据透视\n",
    "    df = df.reset_index()\n",
    "    option_type = 'C' # 具有相同执行价格、相同剩余到期时间的看涨看跌期权隐含波动率相等，因此算一个就够了\n",
    "    df = df[df['call_put']==option_type]\n",
    "    df = df.drop(['ts_code','trade_date','c','s','r','call_put','q'],axis=1)\n",
    "    df['t'] = df['t']*365\n",
    "    df['t'] = df['t'].astype(int)\n",
    "    df = df.pivot_table(index=[\"k\"],columns=[\"t\"],values=[\"iv\"])\n",
    "    df = df.reset_index()\n",
    "    df.to_excel(r'iv.xlsx')\n",
    "    print('数据保存成功，请进行修改')\n",
    "\n",
    "def fitting(df): # 多项式拟合    \n",
    "    col_list = df.columns\n",
    "    for i in range(df.shape[1]-1):\n",
    "        x_col = col_list[0]\n",
    "        y_col = col_list[i+1]\n",
    "        df1 = df.dropna(subset=[y_col])\n",
    "        \n",
    "        x = df1.iloc[:,0]\n",
    "        y = df1.iloc[:,i+1]\n",
    "\n",
    "        degree = 2\n",
    "                \n",
    "        weights = np.polyfit(x, y, degree)\n",
    "        model = np.poly1d(weights)\n",
    "        predict = np.poly1d(model)\n",
    "        x_given_list = df[pd.isnull(df[y_col]) == True][x_col].tolist()\n",
    "        # 所有空值对应的k组成列表\n",
    "        for x_given in x_given_list:\n",
    "            y_predict = predict(x_given)\n",
    "            df.loc[df[x_col]==x_given, y_col] = y_predict\n",
    "    return df\n",
    "\n",
    "def plot_df(): # 作图时进行的数据清洗\n",
    "    df = pd.read_excel('iv.xlsx',skiprows= 1)\n",
    "    df = df.dropna(subset=['t'])\n",
    "    df = df.drop(['t'],axis = 1)\n",
    "    df = df.rename(columns={'Unnamed: 1':'k'})\n",
    "    return df\n"
   ]
  },
  {
   "cell_type": "code",
   "execution_count": 53,
   "metadata": {},
   "outputs": [],
   "source": [
    "def im_surface(): # 波动率曲面作图\n",
    "    df = plot_df()\n",
    "    df = fitting(df)    \n",
    "    #df.to_excel('iv_fitting.xlsx')\n",
    "    df = df.set_index('k')\n",
    "\n",
    "    y = np.array(df.index)\n",
    "    x = np.array(df.columns)\n",
    "    fig = go.Figure(data=[go.Surface(z=df.values, x=x, y=y)])\n",
    "\n",
    "    fig.update_layout(scene = dict(\n",
    "                    xaxis_title='剩余期限',\n",
    "                    yaxis_title='执行价格',\n",
    "                    zaxis_title='隐含波动率'),\n",
    "                    width=1400,\n",
    "                    margin=dict(r=20, b=10, l=10, t=10))\n",
    "    #fig.write_image(\"fig1.jpg\")\n",
    "    plotly.offline.plot(fig)\n",
    "\n",
    "def smile_plot(): # 波动率微笑作图\n",
    "    df = plot_df()\n",
    "    df = df.set_index('k')\n",
    "    df = df.stack().reset_index()\n",
    "    df.columns = ['k', 'days', 'iv']\n",
    "    fig = px.line(df, x=\"k\", y=\"iv\", color=\"days\",line_shape=\"spline\")\n",
    "    plotly.offline.plot(fig)\n"
   ]
  },
  {
   "cell_type": "code",
   "execution_count": 56,
   "metadata": {},
   "outputs": [
    {
     "name": "stdout",
     "output_type": "stream",
     "text": [
      "数据保存成功，请进行修改\n"
     ]
    }
   ],
   "source": [
    "def main():\n",
    "    date = '20201209' # 可任意更改日期\n",
    "    df = extra_data(date) # 提取数据\n",
    "    df = data_clear(df) # 数据清洗\n",
    "    df = cal_iv(df) # 计算隐含波动率\n",
    "    data_pivot(df) # 数据透视表\n",
    "    smile_plot() # 波动率微笑\n",
    "    im_surface() # 波动率曲面\n",
    "    \n",
    "if __name__ == '__main__':\n",
    "    main()"
   ]
  },
  {
   "cell_type": "code",
   "execution_count": null,
   "metadata": {},
   "outputs": [],
   "source": []
  }
 ],
 "metadata": {
  "kernelspec": {
   "display_name": "Python 3",
   "language": "python",
   "name": "python3"
  },
  "language_info": {
   "codemirror_mode": {
    "name": "ipython",
    "version": 3
   },
   "file_extension": ".py",
   "mimetype": "text/x-python",
   "name": "python",
   "nbconvert_exporter": "python",
   "pygments_lexer": "ipython3",
   "version": "3.8.5"
  }
 },
 "nbformat": 4,
 "nbformat_minor": 4
}
