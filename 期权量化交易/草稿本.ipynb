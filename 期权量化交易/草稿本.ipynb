{
 "cells": [
  {
   "cell_type": "code",
   "execution_count": 4,
   "metadata": {},
   "outputs": [],
   "source": [
    "import numpy as np\n",
    "import pandas as pd"
   ]
  },
  {
   "cell_type": "code",
   "execution_count": 7,
   "metadata": {},
   "outputs": [
    {
     "name": "stdout",
     "output_type": "stream",
     "text": [
      "r\n",
      "u\n",
      "n\n",
      "o\n",
      "o\n",
      "b\n"
     ]
    }
   ],
   "source": [
    "x = 'runoob'\n",
    "for i in range(len(x)):\n",
    "    print(x[i])"
   ]
  },
  {
   "cell_type": "code",
   "execution_count": 11,
   "metadata": {},
   "outputs": [
    {
     "data": {
      "text/plain": [
       "array([0, 1, 2, 3, 4, 5, 6, 7, 8, 9])"
      ]
     },
     "execution_count": 11,
     "metadata": {},
     "output_type": "execute_result"
    }
   ],
   "source": [
    "np.arange(10)"
   ]
  },
  {
   "cell_type": "code",
   "execution_count": 13,
   "metadata": {},
   "outputs": [
    {
     "name": "stdout",
     "output_type": "stream",
     "text": [
      "x is 50\n",
      "changed local x to 2\n",
      "x is still 50\n"
     ]
    }
   ],
   "source": [
    "def func(x):\n",
    "    print('x is', x)\n",
    "    x =2\n",
    "    print('changed local x to', x)\n",
    "    \n",
    "x =50\n",
    "func(x)\n",
    "print('x is still', x)"
   ]
  },
  {
   "cell_type": "code",
   "execution_count": 16,
   "metadata": {},
   "outputs": [
    {
     "name": "stdout",
     "output_type": "stream",
     "text": [
      "x is 50\n",
      "changed local x to 2\n",
      "value of x is 2\n"
     ]
    }
   ],
   "source": [
    "def func():\n",
    "    global x\n",
    "    \n",
    "    print('x is', x)\n",
    "    x =2\n",
    "    print('changed local x to', x)\n",
    "    \n",
    "x =50\n",
    "func()\n",
    "print('value of x is', x)"
   ]
  },
  {
   "cell_type": "markdown",
   "metadata": {},
   "source": [
    "## 隐含波动率计算填补Excel空值"
   ]
  },
  {
   "cell_type": "code",
   "execution_count": 1,
   "metadata": {},
   "outputs": [],
   "source": [
    "# 牛顿迭代方法求解\n",
    "\n",
    "from math import sqrt,log,exp\n",
    "from scipy.stats import norm\n",
    "from numpy import *\n",
    "\n",
    "def BSM_call(S,K,r,T,sigma):\n",
    "    d1 = (log(S/K)+(r+0.5*sigma**2)*T)/(sigma*sqrt(T))\n",
    "    d2 = d1 - sigma*sqrt(T)\n",
    "    return S * norm.cdf(d1) - K * exp(-r*T) * norm.cdf(d2)\n",
    "    \n",
    "def BSM_put(S,K,r,T,sigma):\n",
    "    d1 = (log(S/K)+(r+0.5*sigma**2)*T)/(sigma*sqrt(T))\n",
    "    d2 = d1 - sigma*sqrt(T)    \n",
    "    return K * exp(-r*T) * norm.cdf(-d2) - S * norm.cdf(-d1)\n",
    "    \n",
    "def newton_call(P,S,K,r,T):\n",
    "    sigma=0.2\n",
    "    while abs(BSM_call(S,K,r,T,sigma)-P) > 0.0001:\n",
    "        if BSM_call(S,K,r,T,sigma) > P:\n",
    "            sigma-=0.0001\n",
    "        else:\n",
    "            sigma+=0.0001\n",
    "    return sigma\n",
    "\n",
    "def newton_put(P,S,K,r,T):\n",
    "    sigma=0.2\n",
    "    while abs(BSM_put(S,K,r,T,sigma)-P) > 0.0001:\n",
    "        if BSM_put(S,K,r,T,sigma) > P:\n",
    "            sigma-=0.0001\n",
    "        else:\n",
    "            sigma+=0.0001\n",
    "    return sigma"
   ]
  },
  {
   "cell_type": "code",
   "execution_count": 4,
   "metadata": {},
   "outputs": [
    {
     "name": "stdout",
     "output_type": "stream",
     "text": [
      "看涨期权隐含波动率为0.2772\n"
     ]
    }
   ],
   "source": [
    "print('看涨期权隐含波动率为{:.4f}'.format(newton_call(0.2072,2.369,2.2,0.0547,0.1178)))"
   ]
  },
  {
   "cell_type": "code",
   "execution_count": 3,
   "metadata": {},
   "outputs": [
    {
     "name": "stdout",
     "output_type": "stream",
     "text": [
      "看跌期权隐含波动率为0.2446\n"
     ]
    }
   ],
   "source": [
    "print('看跌期权隐含波动率为{:.4f}'.format(newton_put(0.7503,5.29,6,0.04,0.5)))"
   ]
  },
  {
   "cell_type": "code",
   "execution_count": null,
   "metadata": {},
   "outputs": [],
   "source": []
  }
 ],
 "metadata": {
  "kernelspec": {
   "display_name": "Python 3",
   "language": "python",
   "name": "python3"
  },
  "language_info": {
   "codemirror_mode": {
    "name": "ipython",
    "version": 3
   },
   "file_extension": ".py",
   "mimetype": "text/x-python",
   "name": "python",
   "nbconvert_exporter": "python",
   "pygments_lexer": "ipython3",
   "version": "3.8.5"
  }
 },
 "nbformat": 4,
 "nbformat_minor": 4
}
