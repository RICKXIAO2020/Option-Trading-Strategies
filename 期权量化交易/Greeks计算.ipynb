{
 "cells": [
  {
   "cell_type": "code",
   "execution_count": 1,
   "metadata": {},
   "outputs": [],
   "source": [
    "import numpy as np\n",
    "import scipy.stats as si\n",
    "\n",
    "def d(s,k,r,T,sigma):\n",
    "    d1 = (np.log(s / k) + (r + 0.5 * sigma ** 2) * T) / (sigma * np.sqrt(T))\n",
    "    d2 = d1 - sigma * np.sqrt(T)\n",
    "    return (d1,d2)\n",
    "\n",
    "def delta(s,k,r,T,sigma,n):\n",
    "    '''\n",
    "    认购期权的n为1\n",
    "    认沽期权的n为-1\n",
    "    '''\n",
    "    d1 = d(s,k,r,T,sigma)[0]\n",
    "    delta = n * si.norm.cdf(n * d1)\n",
    "    return delta\n",
    "\n",
    "def gamma(s,k,r,T,sigma):\n",
    "    d1 = d(s,k,r,T,sigma)[0]\n",
    "    gamma = si.norm.pdf(d1) / (s * sigma * np.sqrt(T))\n",
    "    return gamma\n",
    "\n",
    "def vega(s,k,r,T,sigma):\n",
    "    d1 = d(s,k,r,T,sigma)[0]\n",
    "    vega = (s * si.norm.pdf(d1) * np.sqrt(T)) / 100\n",
    "    return vega\n",
    "\n",
    "def theta(s,k,r,T,sigma,n):\n",
    "    '''\n",
    "    认购期权的n为1\n",
    "    认沽期权的n为-1\n",
    "    '''\n",
    "    d1 = d(s,k,r,T,sigma)[0]\n",
    "    d2 = d(s,k,r,T,sigma)[1]\n",
    "\n",
    "    theta = (-1 * (s * si.norm.pdf(d1) * sigma) / (2 * np.sqrt(T)) - n * r * k * np.exp(-r * T) * si.norm.cdf(n * d2)) / 365\n",
    "    return theta"
   ]
  },
  {
   "cell_type": "code",
   "execution_count": null,
   "metadata": {},
   "outputs": [],
   "source": []
  }
 ],
 "metadata": {
  "kernelspec": {
   "display_name": "Python 3",
   "language": "python",
   "name": "python3"
  },
  "language_info": {
   "codemirror_mode": {
    "name": "ipython",
    "version": 3
   },
   "file_extension": ".py",
   "mimetype": "text/x-python",
   "name": "python",
   "nbconvert_exporter": "python",
   "pygments_lexer": "ipython3",
   "version": "3.8.5"
  }
 },
 "nbformat": 4,
 "nbformat_minor": 4
}
