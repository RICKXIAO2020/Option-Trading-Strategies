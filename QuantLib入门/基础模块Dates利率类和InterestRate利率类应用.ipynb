{
 "cells": [
  {
   "cell_type": "code",
   "execution_count": 1,
   "metadata": {},
   "outputs": [],
   "source": [
    "import QuantLib as ql"
   ]
  },
  {
   "cell_type": "markdown",
   "metadata": {},
   "source": [
    "## 基础模块：Dates\n",
    "\n",
    "日期模块Dates包含了Date，Period，Calendar，DayCounter，Schedule，DateGeneration等,是QuantLib的基础模块，包含了时间、日期、日历等的定义、生成和逻辑运算等，是数学建模和量化分析的重要基础。"
   ]
  },
  {
   "cell_type": "markdown",
   "metadata": {},
   "source": [
    "**Date:日期**\n",
    "\n",
    "Date是日期格式，日期范围是1901-01-01至2199-12-31。有三种写法：(1)Date(n),与Excel类似，其中n的范围是367-109574之间的数字（含），其他超出该范围的数字都会报错；（2）Date(day,month,year),即日，月，年的输入格式，其中日和年必须是数字，而月可以是其他格式，如ql.June（相当于输入6）。（3）Date(日期，格式),如：Date('20-09-2020', '%d-%m-%Y')\n",
    "\n",
    "应用实例：定义日期“2020年11月11日”"
   ]
  },
  {
   "cell_type": "code",
   "execution_count": 2,
   "metadata": {},
   "outputs": [
    {
     "name": "stdout",
     "output_type": "stream",
     "text": [
      "True\n"
     ]
    }
   ],
   "source": [
    "d1=ql.Date(11,11,2020)\n",
    "d2=ql.Date('2020-11-11','%Y-%m-%d')\n",
    "d3=ql.Date('20201111','%Y%m%d')\n",
    "d4=ql.Date(44146)\n",
    "\n",
    "print(d1==d2==d3==d4)"
   ]
  },
  {
   "cell_type": "markdown",
   "metadata": {},
   "source": [
    "日期定义与运算"
   ]
  },
  {
   "cell_type": "code",
   "execution_count": 3,
   "metadata": {},
   "outputs": [
    {
     "name": "stdout",
     "output_type": "stream",
     "text": [
      "初始日期: November 11th, 2020\n",
      "ISO格式: 2020-11-11\n",
      "一周中第几天: 4\n",
      "该月的第几天: 11\n",
      "本年的第几天: 316\n",
      "月份: 11\n",
      "年份: 2020\n",
      "日期数字: 44146\n"
     ]
    }
   ],
   "source": [
    "today=ql.Date(11,11,2020)\n",
    "print('初始日期:',today)\n",
    "print('ISO格式:',today.ISO())\n",
    "\n",
    "#返回一周七天对应的数字：周日是1，周六是7\n",
    "print('一周中第几天:',today.weekday())\n",
    "print('该月的第几天:',today.dayOfMonth())\n",
    "print('本年的第几天:',today.dayOfYear())\n",
    "print('月份:',today.month())\n",
    "print('年份:',today.year())\n",
    "print('日期数字:',today.serialNumber())"
   ]
  },
  {
   "cell_type": "code",
   "execution_count": 5,
   "metadata": {},
   "outputs": [
    {
     "name": "stdout",
     "output_type": "stream",
     "text": [
      "False\n",
      "True\n",
      "True\n",
      "True\n"
     ]
    }
   ],
   "source": [
    "#逻辑判断\n",
    "\n",
    "print(today == ql.Date(12,11,2020))\n",
    "print(today > ql.Date(11,10,2020))\n",
    "print(today < ql.Date(1,12,2020))\n",
    "print(today != ql.Date(11,9,2020)) # 不等于符号"
   ]
  },
  {
   "cell_type": "markdown",
   "metadata": {},
   "source": [
    "获取Date内置日期和运算函数"
   ]
  },
  {
   "cell_type": "code",
   "execution_count": 7,
   "metadata": {},
   "outputs": [
    {
     "name": "stdout",
     "output_type": "stream",
     "text": [
      "当前日期： November 22nd, 2020\n",
      "系统支持最小日期： January 1st, 1901\n",
      "系统支持的最大日期： December 31st, 2199\n",
      "是闰年吗？ ： True\n",
      "该月的最后一天： November 30th, 2020\n",
      "是该月的最后一天吗？ ： True\n",
      "该日期的下个星期一： November 16th, 2020\n",
      "该月的第2个星期五： November 13th, 2020\n"
     ]
    }
   ],
   "source": [
    "print('当前日期：', ql.Date.todaysDate())\n",
    "print('系统支持最小日期：', ql.Date.minDate())\n",
    "print('系统支持的最大日期：', ql.Date.maxDate())\n",
    "\n",
    "#判断是否为闰年\n",
    "print('是闰年吗？ ：', ql.Date.isLeap(2020))\n",
    "print('该月的最后一天：', ql.Date.endOfMonth(ql.Date(11, ql.November, 2020)))\n",
    "print('是该月的最后一天吗？ ：', ql.Date.isEndOfMonth(ql.Date(30,11,2020)))\n",
    "print('该日期的下个星期一：', ql.Date.nextWeekday(ql.Date(11,11,2020), ql.Monday))\n",
    "print('该月的第2个星期五：', ql.Date.nthWeekday(2, ql.Friday, 11, 2020))"
   ]
  },
  {
   "cell_type": "markdown",
   "metadata": {},
   "source": [
    "**Period: 周期**\n",
    "\n",
    "Period可以生成日期频数，如多少日（周、月、年）等。主要有三种写法：（1）ql.Period(n, units)，其中units可以是日：ql.Days，周：ql.Weeks,月：ql.Months，年：ql.Years。（2）ql.Period(periodString)，其中periodString可以是日:'1D'，周：'1W',月：'1M'和年：'1Y'。（3）ql.Period(frequency)，如每年，ql.Annual。"
   ]
  },
  {
   "cell_type": "code",
   "execution_count": 9,
   "metadata": {},
   "outputs": [
    {
     "data": {
      "text/plain": [
       "True"
      ]
     },
     "execution_count": 9,
     "metadata": {},
     "output_type": "execute_result"
    }
   ],
   "source": [
    "# 一年的等价写法\n",
    "ql.Period('1Y')==ql.Period(1,ql.Years)==ql.Period(ql.Annual)"
   ]
  },
  {
   "cell_type": "markdown",
   "metadata": {},
   "source": [
    "Period主要用于Date的运算。"
   ]
  },
  {
   "cell_type": "code",
   "execution_count": 10,
   "metadata": {},
   "outputs": [
    {
     "name": "stdout",
     "output_type": "stream",
     "text": [
      "November 11th, 2020三天后是November 14th, 2020\n",
      "November 11th, 2020前一天是November 10th, 2020\n",
      "November 11th, 2020下一周是November 18th, 2020\n",
      "November 11th, 2020下一个月是December 11th, 2020\n",
      "November 11th, 2020下一年是November 11th, 2021\n"
     ]
    }
   ],
   "source": [
    "today=ql.Date(11,11,2020)\n",
    "print(f'{today}三天后是{today+3}')\n",
    "print(f'{today}前一天是{today-1}')\n",
    "print(f'{today}下一周是{today+ql.Period(1,ql.Weeks)}')\n",
    "print(f'{today}下一个月是{today+ql.Period(1,ql.Months)}')\n",
    "print(f'{today}下一年是{today+ql.Period(1,ql.Years)}')"
   ]
  },
  {
   "cell_type": "markdown",
   "metadata": {},
   "source": [
    "**Calendar: 日历**\n",
    "\n",
    "Date对象没有考虑假期因素，而实际应用中，证券交易需要考虑指定交易所或者国家的假期，Calendar对主要的交易所给出了交易日历，包括：Argentina : [‘Merval’]；Brazil : [‘Exchange’,‘Settlement’]，Canada : [‘Settlement’, ‘TSX’]、China : [‘IB’, ‘SSE’]；CzechRepublic : [‘PSE’]，France : [‘Exchange’, ‘Settlement’]；Germany : [‘Eurex’, ‘FrankfurtStockExchange’, ‘Settlement’, ‘Xetra’]，HongKong : [‘HKEx’]，Iceland : [‘ICEX’]，India : [‘NSE’]，Indonesia : [‘BEJ’, ‘JSX’]，Israel : [‘Settlement’, ‘TASE’]，Italy : [‘Exchange’, ‘Settlement’]，Mexico : [‘BMV’]，Russia : [‘MOEX’, ‘Settlement’]，SaudiArabia : [‘Tadawul’]，Singapore :[‘SGX’]，Slovakia : [‘BSSE’]，SouthKorea : [‘KRX’, ‘Settlement’]，Taiwan : [‘TSEC’]，Ukraine : [‘USE’]，UnitedKingdom : [‘Exchange’, ‘Metals’, ‘Settlement’]；UnitedStates ：[‘FederalReserve’,‘GovernmentBond’,‘LiborImpact’, ‘NERC’, ‘NYSE’, ‘Settlement’]"
   ]
  },
  {
   "cell_type": "code",
   "execution_count": 14,
   "metadata": {},
   "outputs": [
    {
     "name": "stdout",
     "output_type": "stream",
     "text": [
      "January 1st, 2020 至 December 31st, 2020 之间有 253 个英国交易日\n",
      "January 1st, 2020 至 December 31st, 2020 之间有 252 个美国交易日\n",
      "January 1st, 2020 至 December 31st, 2020 之间有 260 个中国交易日\n"
     ]
    }
   ],
   "source": [
    "calendar1 = ql.UnitedKingdom(ql.UnitedKingdom.Exchange)\n",
    "calendar2 = ql.UnitedStates(ql.UnitedStates.NYSE)\n",
    "calendar3 = ql.China(ql.China.SSE)\n",
    "\n",
    "day1 = ql.Date(1,1,2020)\n",
    "day2 = ql.Date(31,12,2020)\n",
    "uk_bday = calendar1.businessDaysBetween(day1,day2)\n",
    "us_bday = calendar2.businessDaysBetween(day1,day2)\n",
    "ch_bday = calendar3.businessDaysBetween(day1,day2)\n",
    "print(day1,'至',day2,'之间有',uk_bday,'个英国交易日')\n",
    "print(day1,'至',day2,'之间有',us_bday,'个美国交易日')\n",
    "print(day1,'至',day2,'之间有',ch_bday,'个中国交易日')"
   ]
  },
  {
   "cell_type": "markdown",
   "metadata": {},
   "source": [
    "**判断日期类型**"
   ]
  },
  {
   "cell_type": "code",
   "execution_count": 15,
   "metadata": {},
   "outputs": [
    {
     "name": "stdout",
     "output_type": "stream",
     "text": [
      "October 1st, 2020 在中国是交易日吗？： True\n",
      "October 1st, 2020 在美国是交易日吗？： True\n"
     ]
    }
   ],
   "source": [
    "cal1 = ql.China()\n",
    "cal2 = ql.UnitedStates()\n",
    "mydate = ql.Date(1,10,2020)\n",
    "\n",
    "# 判断交易日\n",
    "print(mydate,'在中国是交易日吗？：', cal1.isBusinessDay(mydate))\n",
    "print(mydate,'在美国是交易日吗？：', cal2.isBusinessDay(mydate))"
   ]
  },
  {
   "cell_type": "code",
   "execution_count": 16,
   "metadata": {},
   "outputs": [
    {
     "name": "stdout",
     "output_type": "stream",
     "text": [
      "Is Business Day :  True\n",
      "Is Business Day :  False\n",
      "Is Business Day :  False\n",
      "Is Business Day :  True\n"
     ]
    }
   ],
   "source": [
    "cal = ql.China()\n",
    "day1 = ql.Date(11,11,2020)\n",
    "day2 = ql.Date(14,11,2020)\n",
    "print('Is Business Day : ', cal.isBusinessDay(day1))\n",
    "print('Is Business Day : ', cal.isBusinessDay(day2))\n",
    "\n",
    "# 添加或者移除节假日设定\n",
    "cal.addHoliday(day1)\n",
    "cal.removeHoliday(day2)\n",
    "print('Is Business Day : ', cal.isBusinessDay(day1))\n",
    "print('Is Business Day : ', cal.isBusinessDay(day2))"
   ]
  },
  {
   "cell_type": "markdown",
   "metadata": {},
   "source": [
    "不同国家日历日和交易日的区别"
   ]
  },
  {
   "cell_type": "code",
   "execution_count": 17,
   "metadata": {},
   "outputs": [
    {
     "name": "stdout",
     "output_type": "stream",
     "text": [
      "November 11th, 2020 后推30个日历日：      December 11th, 2020\n",
      "November 11th, 2020 后推美国30个交易日：  December 24th, 2020\n",
      "November 11th, 2020 后推中国30个交易日：  December 22nd, 2020\n"
     ]
    }
   ],
   "source": [
    "date = ql.Date(11, 11, 2020)\n",
    "us_calendar = ql.UnitedStates()\n",
    "ch_calendar = ql.China()\n",
    "raw_date = date + ql.Period(30, ql.Days)\n",
    "us_date = us_calendar.advance(date, ql.Period(30, ql.Days))\n",
    "ch_date = ch_calendar.advance(date, ql.Period(30, ql.Days))\n",
    "print(date,\"后推30个日历日：     \", raw_date)\n",
    "print(date,\"后推美国30个交易日： \", us_date)\n",
    "print(date,\"后推中国30个交易日： \", ch_date)"
   ]
  },
  {
   "cell_type": "markdown",
   "metadata": {},
   "source": [
    "**DayCounter：天数计算**\n",
    "\n",
    "DayCounter可以统计某两个日期之间的天数，是固定收益类产品估值和分析的重要基础，常用的计数函数包括：\n",
    "\n",
    "- Actual360 : Actual / 360，一年按360天\n",
    "\n",
    "- Actual365Fixed : Actual / 365(Fixed)，一年按365天\n",
    "\n",
    "- Standard：标准；Canadian：加拿大；NoLeap：即所有年份都是365天\n",
    "\n",
    "- ActualActual : 按每年实际天数\n",
    "\n",
    "- ISMA \\ Bond\\ ISDA\\ Historical\\ Actual365\\ AFB\\ Euro\n",
    "\n",
    "- Business252 : Business / 252，证券交易日\n",
    "\n",
    "- Thirty360 : 30 / 360，按月30天，年360天\n",
    "\n",
    "- SimpleDayCounter：简单的日计数\n",
    "\n",
    "常用的函数有两个：\n",
    "\n",
    "dayCount(d1,d2):计算 d1，d2 之间的天数\n",
    "\n",
    "yearFraction(d1, d2)：将 d1，d2 之间的天数年化"
   ]
  },
  {
   "cell_type": "code",
   "execution_count": 22,
   "metadata": {},
   "outputs": [
    {
     "name": "stdout",
     "output_type": "stream",
     "text": [
      "日历间隔天数：41\n",
      "Business252计算规则天数：27\n",
      "Business252计算规则天数年化：0.1071\n",
      "SimpleDayCounter 计算规则天数 40\n",
      "Thirty360 计算规则天数 40\n",
      "Actual360 计算规则天数 41\n",
      "Actual365Fixed 计算规则天数 41\n",
      "Actual365Fixed(Canadian) 计算规则天数 41\n",
      "Actual365NoLeap 计算规则天数 41\n",
      "ActualActual 计算规则天数 41\n",
      "Business252 计算规则天数 27\n"
     ]
    }
   ],
   "source": [
    "d1 = ql.Date(1,10,2020)\n",
    "d2 = ql.Date(11,11,2020)\n",
    "dc=ql.Business252()\n",
    "dd=dc.dayCount(d1,d2)\n",
    "yf=dc.yearFraction(d1,d2)\n",
    "print(f'日历间隔天数：{d2-d1}')\n",
    "print(f'Business252计算规则天数：{dd}')\n",
    "print(f'Business252计算规则天数年化：{yf:.4f}')\n",
    "\n",
    "dayCounters = {\n",
    "    'SimpleDayCounter': ql.SimpleDayCounter(),\n",
    "    'Thirty360': ql.Thirty360(),\n",
    "    'Actual360': ql.Actual360(),\n",
    "    'Actual365Fixed': ql.Actual365Fixed(),\n",
    "    'Actual365Fixed(Canadian)': ql.Actual365Fixed(ql.Actual365Fixed.Canadian),\n",
    "    'Actual365NoLeap': ql.Actual365NoLeap(),\n",
    "    'ActualActual': ql.ActualActual(),\n",
    "    'Business252': ql.Business252()}\n",
    "for name,dc in dayCounters.items():\n",
    "    dd=dc.dayCount(d1,d2)\n",
    "    print(name,'计算规则天数',dd) "
   ]
  },
  {
   "cell_type": "markdown",
   "metadata": {},
   "source": [
    "**Schedule: 时间表**\n",
    "\n",
    "Schedule(effectiveDate, terminationDate, tenor, calendar, convention, terminationDateConvention, rule, endOfMonth, firstDate=Date(), nextToLastDate=Date())，各变量分别代表：\n",
    "\n",
    "- effectiveDate, terminationDate : 日历列表的起始和终止日期, 比如债券的定价和到期日期\n",
    "\n",
    "- tenor : Period对象, 两个日期的间隔, 如债券发行频率(1年或6个月)或利率掉期利率(3个月)。\n",
    "\n",
    "- calendar : 一个日历表，用于生成要遵循的日期的特定日历。\n",
    "\n",
    "- convention : 整数型，如何调整非工作天(最后一天除外)，值范围是quantlib-python的一些保留变量。\n",
    "\n",
    "- terminationDateConvention : 整数型，如果最后的日期是非工作日，如何调整它，值范围是quantlib-python的一些保留变量。\n",
    "\n",
    "- Rule : 日期生成的一个成员，用于为日期生成规则。\n",
    "\n",
    "- endOfMonth : 如果开始日期在月底，是否需要在月底安排其他日期(最后日期除外)。\n",
    "\n",
    "- firstDate : nextToLastDate(可选):Date，为生成的方法规则提供的开始和结束日期(不常用)。\n",
    "\n",
    "Schedule对象的行为和list类似，是一种存储Date对象的序列容器。使用len(sch)：返回 Schedule 对象sch内日期的个数，[i]：返回第 i 个日期，Schedule对象是可迭代的。"
   ]
  },
  {
   "cell_type": "code",
   "execution_count": 25,
   "metadata": {},
   "outputs": [
    {
     "name": "stdout",
     "output_type": "stream",
     "text": [
      "1 January 2nd, 2018\n",
      "2 July 2nd, 2018\n",
      "3 January 2nd, 2019\n",
      "4 July 1st, 2019\n",
      "5 January 2nd, 2020\n",
      "6 June 15th, 2020\n"
     ]
    }
   ],
   "source": [
    "effectiveDate = ql.Date(1,1,2018)\n",
    "terminationDate = ql.Date(15,6,2020)\n",
    "frequency = ql.Period('6M')\n",
    "\n",
    "# 默认使用当前系统日期\n",
    "calendar = ql.TARGET()\n",
    "convention = ql.ModifiedFollowing\n",
    "terminationDateConvention = ql.ModifiedFollowing\n",
    "\n",
    "# Forward是以初始日期向后推算，Backward是以结束日期向前推算\n",
    "rule = ql.DateGeneration.Forward\n",
    "endOfMonth = False\n",
    "mysch = ql.Schedule(effectiveDate, terminationDate, frequency, calendar, \n",
    "                convention, terminationDateConvention, rule, endOfMonth)\n",
    "for i,d in enumerate(mysch):\n",
    "    print(i+1,d)"
   ]
  },
  {
   "cell_type": "markdown",
   "metadata": {},
   "source": [
    "**schedule常用的函数：**\n",
    "\n",
    "- until(d)：从日期列表中截取前半部分，并保证最后一个日期是d。\n",
    "\n",
    "- isRegular(i)：判断第 i 个区间是否完整。如果一个Schedule对象有 n 个日期，该对象就有 n-1个区间，那么第 i 个区间的长度和事先规定的时间间隔一致，则判断该区间是完整的（Regular）。"
   ]
  },
  {
   "cell_type": "code",
   "execution_count": 26,
   "metadata": {},
   "outputs": [
    {
     "name": "stdout",
     "output_type": "stream",
     "text": [
      "January 2nd, 2018 至 July 2nd, 2018 该区间完整吗？ True\n",
      "July 2nd, 2018 至 January 2nd, 2019 该区间完整吗？ True\n",
      "January 2nd, 2019 至 June 15th, 2019 该区间完整吗？ False\n"
     ]
    }
   ],
   "source": [
    "mys=mysch.until(ql.Date(15, ql.June, 2019))\n",
    "for i in range(len(mys)-1):\n",
    "    print(mys[i],'至',mys[i+1],'该区间完整吗？',mys.isRegular(i+1))"
   ]
  },
  {
   "cell_type": "markdown",
   "metadata": {},
   "source": [
    "**DateGeneration**\n",
    "\n",
    "许多产品的估值依赖于对未来现金流的分析，因此准确地列出未来现金流的日期是至关重要的。在给定开始和结束日期后，可以采用“反向方法”或“正向方法”生成日期列表"
   ]
  },
  {
   "cell_type": "code",
   "execution_count": 27,
   "metadata": {},
   "outputs": [
    {
     "name": "stdout",
     "output_type": "stream",
     "text": [
      "Backward [Date(6,1,2020), Date(20,1,2020), Date(20,2,2020), Date(20,3,2020), Date(20,4,2020)]\n",
      "Forward [Date(6,1,2020), Date(5,2,2020), Date(5,3,2020), Date(6,4,2020), Date(20,4,2020)]\n",
      "Zero [Date(6,1,2020), Date(20,4,2020)]\n",
      "ThirdWednesDay [Date(6,1,2020), Date(19,2,2020), Date(18,3,2020), Date(15,4,2020), Date(20,4,2020)]\n",
      "Twentieth [Date(6,1,2020), Date(20,1,2020), Date(20,2,2020), Date(20,3,2020), Date(20,4,2020)]\n",
      "TwentiethIMM [Date(6,1,2020), Date(20,3,2020), Date(20,4,2020)]\n",
      "CDS [Date(20,12,2019), Date(20,3,2020), Date(20,4,2020)]\n"
     ]
    }
   ],
   "source": [
    "effectiveDate = ql.Date(5,1,2020)\n",
    "terminationDate = ql.Date(20,4,2020)\n",
    "frequency = ql.Period('1M')\n",
    "#默认使用当前系统日期\n",
    "calendar = ql.TARGET()\n",
    "convention = ql.ModifiedFollowing\n",
    "terminationDateConvention = ql.ModifiedFollowing\n",
    "#Forward是以初始日期向后推算，Backward是以结束日期向前推算\n",
    "\n",
    "endOfMonth = False\n",
    "\n",
    "rules = {\n",
    "    'Backward': ql.DateGeneration.Backward,\n",
    "    'Forward': ql.DateGeneration.Forward,\n",
    "    'Zero': ql.DateGeneration.Zero,\n",
    "    'ThirdWednesDay': ql.DateGeneration.ThirdWednesday,\n",
    "    'Twentieth': ql.DateGeneration.Twentieth,\n",
    "    'TwentiethIMM': ql.DateGeneration.TwentiethIMM,\n",
    "    'CDS': ql.DateGeneration.CDS\n",
    "\n",
    "}\n",
    "\n",
    "for name, rule in rules.items():\n",
    "    schedule = ql.Schedule(effectiveDate, terminationDate, frequency, calendar, \n",
    "                convention, terminationDateConvention, rule, endOfMonth)\n",
    "    print(name, [dt for dt in schedule])"
   ]
  },
  {
   "cell_type": "markdown",
   "metadata": {},
   "source": [
    "# InterestRate:利率类"
   ]
  },
  {
   "cell_type": "markdown",
   "metadata": {},
   "source": [
    "InterestRate类可用于存储具有复利类型、日计数和复利频率的利率。下面我们将展示如何使用实际日计数惯例（Actual/Actual）创建8.0%复利年利率。"
   ]
  },
  {
   "cell_type": "code",
   "execution_count": 28,
   "metadata": {},
   "outputs": [],
   "source": [
    "annual_rate = 0.08\n",
    "day_count = ql.ActualActual()\n",
    "compound_type = ql.Compounded\n",
    "frequency = ql.Annual\n",
    "interest_rate = ql.InterestRate(annual_rate, day_count, compound_type, frequency)"
   ]
  },
  {
   "cell_type": "markdown",
   "metadata": {},
   "source": [
    "假设你以上述描述的利率投资一美元，利息对象中的复合因子法给出你的投资在任何时期后的价值。下面演示由复合因子返回的2年的值与预期的复利公式是一致的。"
   ]
  },
  {
   "cell_type": "code",
   "execution_count": 29,
   "metadata": {},
   "outputs": [
    {
     "name": "stdout",
     "output_type": "stream",
     "text": [
      "1.1664\n",
      "1.1664\n"
     ]
    }
   ],
   "source": [
    "t = 2.0\n",
    "print(interest_rate.compoundFactor(t))\n",
    "print((1.0 + annual_rate)**2)"
   ]
  },
  {
   "cell_type": "markdown",
   "metadata": {},
   "source": [
    "discountFactor方法返回复合因子方法的倒数。在计算未来现金流的现值时，折现系数是非常实用的。"
   ]
  },
  {
   "cell_type": "code",
   "execution_count": 30,
   "metadata": {},
   "outputs": [
    {
     "name": "stdout",
     "output_type": "stream",
     "text": [
      "0.8573\n",
      "0.8573\n"
     ]
    }
   ],
   "source": [
    "print(f'{interest_rate.discountFactor(t):.4f}')\n",
    "print(f'{1.0/interest_rate.compoundFactor(t):.4f}')"
   ]
  },
  {
   "cell_type": "markdown",
   "metadata": {},
   "source": [
    "一个给定的利率可以转换为其他的复利类型和复利频率使用相等的中心方法。"
   ]
  },
  {
   "cell_type": "code",
   "execution_count": 31,
   "metadata": {},
   "outputs": [
    {
     "name": "stdout",
     "output_type": "stream",
     "text": [
      "0.0772\n"
     ]
    }
   ],
   "source": [
    "compound_type= ql.Compounded\n",
    "t=2.0\n",
    "new_frequency = ql.Monthly\n",
    "new_interest_rate =interest_rate.equivalentRate(compound_type, \n",
    "        new_frequency,t)\n",
    "new_annual_rate = new_interest_rate.rate()\n",
    "print (f'{new_annual_rate:.4f}')"
   ]
  },
  {
   "cell_type": "markdown",
   "metadata": {},
   "source": [
    "两个利率对象(interest_rate和new_interest_rate)的折现因子相同，如下所示。"
   ]
  },
  {
   "cell_type": "code",
   "execution_count": 32,
   "metadata": {},
   "outputs": [
    {
     "name": "stdout",
     "output_type": "stream",
     "text": [
      "0.8573\n",
      "0.8573\n"
     ]
    }
   ],
   "source": [
    "print (f'{interest_rate.discountFactor(t):.4f}')\n",
    "print (f'{new_interest_rate.discountFactor(t):.4f}')"
   ]
  }
 ],
 "metadata": {
  "kernelspec": {
   "display_name": "Python 3",
   "language": "python",
   "name": "python3"
  },
  "language_info": {
   "codemirror_mode": {
    "name": "ipython",
    "version": 3
   },
   "file_extension": ".py",
   "mimetype": "text/x-python",
   "name": "python",
   "nbconvert_exporter": "python",
   "pygments_lexer": "ipython3",
   "version": "3.7.6"
  }
 },
 "nbformat": 4,
 "nbformat_minor": 4
}
